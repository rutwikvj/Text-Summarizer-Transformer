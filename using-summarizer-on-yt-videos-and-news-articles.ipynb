{
 "cells": [
  {
   "cell_type": "code",
   "execution_count": 1,
   "id": "19cc372c",
   "metadata": {
    "_cell_guid": "b1076dfc-b9ad-4769-8c92-a6c4dae69d19",
    "_uuid": "8f2839f25d086af736a60e9eeb907d3b93b6e0e5",
    "execution": {
     "iopub.execute_input": "2021-10-01T11:28:29.628928Z",
     "iopub.status.busy": "2021-10-01T11:28:29.627789Z",
     "iopub.status.idle": "2021-10-01T11:28:29.631513Z",
     "shell.execute_reply": "2021-10-01T11:28:29.630941Z",
     "shell.execute_reply.started": "2021-10-01T11:26:05.491928Z"
    },
    "papermill": {
     "duration": 0.09581,
     "end_time": "2021-10-01T11:28:29.631654",
     "exception": false,
     "start_time": "2021-10-01T11:28:29.535844",
     "status": "completed"
    },
    "tags": []
   },
   "outputs": [],
   "source": [
    "# This Python 3 environment comes with many helpful analytics libraries installed\n",
    "# It is defined by the kaggle/python Docker image: https://github.com/kaggle/docker-python\n",
    "# For example, here's several helpful packages to load\n",
    "\n",
    "import numpy as np # linear algebra\n",
    "import pandas as pd # data processing, CSV file I/O (e.g. pd.read_csv)\n",
    "\n",
    "# Input data files are available in the read-only \"../input/\" directory\n",
    "# For example, running this (by clicking run or pressing Shift+Enter) will list all files under the input directory\n",
    "\n",
    "import os\n",
    "for dirname, _, filenames in os.walk('/kaggle/input'):\n",
    "    for filename in filenames:\n",
    "        print(os.path.join(dirname, filename))\n",
    "\n",
    "# You can write up to 20GB to the current directory (/kaggle/working/) that gets preserved as output when you create a version using \"Save & Run All\" \n",
    "# You can also write temporary files to /kaggle/temp/, but they won't be saved outside of the current session"
   ]
  },
  {
   "cell_type": "code",
   "execution_count": 2,
   "id": "d93ee096",
   "metadata": {
    "execution": {
     "iopub.execute_input": "2021-10-01T11:28:29.666106Z",
     "iopub.status.busy": "2021-10-01T11:28:29.665469Z",
     "iopub.status.idle": "2021-10-01T11:28:39.932034Z",
     "shell.execute_reply": "2021-10-01T11:28:39.931584Z",
     "shell.execute_reply.started": "2021-10-01T11:26:10.528270Z"
    },
    "papermill": {
     "duration": 10.28402,
     "end_time": "2021-10-01T11:28:39.932184",
     "exception": false,
     "start_time": "2021-10-01T11:28:29.648164",
     "status": "completed"
    },
    "tags": []
   },
   "outputs": [
    {
     "name": "stderr",
     "output_type": "stream",
     "text": [
      "2021-10-01 11:28:34.976835: I tensorflow/stream_executor/platform/default/dso_loader.cc:49] Successfully opened dynamic library libcudart.so.11.0\n"
     ]
    }
   ],
   "source": [
    "from transformers import pipeline"
   ]
  },
  {
   "cell_type": "code",
   "execution_count": 3,
   "id": "f6a5a1e2",
   "metadata": {
    "execution": {
     "iopub.execute_input": "2021-10-01T11:28:39.966647Z",
     "iopub.status.busy": "2021-10-01T11:28:39.966002Z",
     "iopub.status.idle": "2021-10-01T11:28:47.778450Z",
     "shell.execute_reply": "2021-10-01T11:28:47.777021Z",
     "shell.execute_reply.started": "2021-10-01T11:27:25.810952Z"
    },
    "papermill": {
     "duration": 7.831211,
     "end_time": "2021-10-01T11:28:47.778593",
     "exception": false,
     "start_time": "2021-10-01T11:28:39.947382",
     "status": "completed"
    },
    "tags": []
   },
   "outputs": [
    {
     "name": "stdout",
     "output_type": "stream",
     "text": [
      "Collecting youtube_transcript_api\r\n",
      "  Downloading youtube_transcript_api-0.4.1-py3-none-any.whl (22 kB)\r\n",
      "Requirement already satisfied: requests in /opt/conda/lib/python3.7/site-packages (from youtube_transcript_api) (2.25.1)\r\n",
      "Requirement already satisfied: certifi>=2017.4.17 in /opt/conda/lib/python3.7/site-packages (from requests->youtube_transcript_api) (2021.5.30)\r\n",
      "Requirement already satisfied: idna<3,>=2.5 in /opt/conda/lib/python3.7/site-packages (from requests->youtube_transcript_api) (2.10)\r\n",
      "Requirement already satisfied: urllib3<1.27,>=1.21.1 in /opt/conda/lib/python3.7/site-packages (from requests->youtube_transcript_api) (1.26.6)\r\n",
      "Requirement already satisfied: chardet<5,>=3.0.2 in /opt/conda/lib/python3.7/site-packages (from requests->youtube_transcript_api) (4.0.0)\r\n",
      "Installing collected packages: youtube-transcript-api\r\n",
      "Successfully installed youtube-transcript-api-0.4.1\r\n",
      "\u001b[33mWARNING: Running pip as the 'root' user can result in broken permissions and conflicting behaviour with the system package manager. It is recommended to use a virtual environment instead: https://pip.pypa.io/warnings/venv\u001b[0m\r\n"
     ]
    }
   ],
   "source": [
    "!pip install youtube_transcript_api"
   ]
  },
  {
   "cell_type": "code",
   "execution_count": 4,
   "id": "07d09509",
   "metadata": {
    "execution": {
     "iopub.execute_input": "2021-10-01T11:28:47.816874Z",
     "iopub.status.busy": "2021-10-01T11:28:47.816045Z",
     "iopub.status.idle": "2021-10-01T11:28:47.823685Z",
     "shell.execute_reply": "2021-10-01T11:28:47.823284Z",
     "shell.execute_reply.started": "2021-10-01T11:27:39.673173Z"
    },
    "papermill": {
     "duration": 0.028609,
     "end_time": "2021-10-01T11:28:47.823795",
     "exception": false,
     "start_time": "2021-10-01T11:28:47.795186",
     "status": "completed"
    },
    "tags": []
   },
   "outputs": [],
   "source": [
    "from youtube_transcript_api import YouTubeTranscriptApi"
   ]
  },
  {
   "cell_type": "code",
   "execution_count": 5,
   "id": "21ec9aa9",
   "metadata": {
    "execution": {
     "iopub.execute_input": "2021-10-01T11:28:47.860102Z",
     "iopub.status.busy": "2021-10-01T11:28:47.859389Z",
     "iopub.status.idle": "2021-10-01T11:28:47.861374Z",
     "shell.execute_reply": "2021-10-01T11:28:47.861848Z",
     "shell.execute_reply.started": "2021-10-01T08:05:46.683233Z"
    },
    "papermill": {
     "duration": 0.021575,
     "end_time": "2021-10-01T11:28:47.861971",
     "exception": false,
     "start_time": "2021-10-01T11:28:47.840396",
     "status": "completed"
    },
    "tags": []
   },
   "outputs": [],
   "source": [
    "youtube_video = \"https://www.youtube.com/watch?v=0bi1PvXCbr8\""
   ]
  },
  {
   "cell_type": "code",
   "execution_count": 6,
   "id": "3da8406b",
   "metadata": {
    "execution": {
     "iopub.execute_input": "2021-10-01T11:28:47.897761Z",
     "iopub.status.busy": "2021-10-01T11:28:47.896975Z",
     "iopub.status.idle": "2021-10-01T11:28:47.900595Z",
     "shell.execute_reply": "2021-10-01T11:28:47.900951Z",
     "shell.execute_reply.started": "2021-10-01T08:05:46.96656Z"
    },
    "papermill": {
     "duration": 0.023262,
     "end_time": "2021-10-01T11:28:47.901074",
     "exception": false,
     "start_time": "2021-10-01T11:28:47.877812",
     "status": "completed"
    },
    "tags": []
   },
   "outputs": [],
   "source": [
    "video_id = youtube_video.split(\"=\")[1]"
   ]
  },
  {
   "cell_type": "code",
   "execution_count": 7,
   "id": "0085170e",
   "metadata": {
    "execution": {
     "iopub.execute_input": "2021-10-01T11:28:47.939666Z",
     "iopub.status.busy": "2021-10-01T11:28:47.935552Z",
     "iopub.status.idle": "2021-10-01T11:28:47.942278Z",
     "shell.execute_reply": "2021-10-01T11:28:47.942718Z",
     "shell.execute_reply.started": "2021-10-01T08:06:00.022525Z"
    },
    "papermill": {
     "duration": 0.025954,
     "end_time": "2021-10-01T11:28:47.942853",
     "exception": false,
     "start_time": "2021-10-01T11:28:47.916899",
     "status": "completed"
    },
    "tags": []
   },
   "outputs": [
    {
     "data": {
      "text/plain": [
       "'0bi1PvXCbr8'"
      ]
     },
     "execution_count": 7,
     "metadata": {},
     "output_type": "execute_result"
    }
   ],
   "source": [
    "video_id"
   ]
  },
  {
   "cell_type": "code",
   "execution_count": 8,
   "id": "0569d30e",
   "metadata": {
    "execution": {
     "iopub.execute_input": "2021-10-01T11:28:47.987690Z",
     "iopub.status.busy": "2021-10-01T11:28:47.980444Z",
     "iopub.status.idle": "2021-10-01T11:28:48.021790Z",
     "shell.execute_reply": "2021-10-01T11:28:48.022323Z",
     "shell.execute_reply.started": "2021-10-01T08:06:08.152234Z"
    },
    "papermill": {
     "duration": 0.063463,
     "end_time": "2021-10-01T11:28:48.022449",
     "exception": false,
     "start_time": "2021-10-01T11:28:47.958986",
     "status": "completed"
    },
    "tags": []
   },
   "outputs": [
    {
     "data": {
      "image/jpeg": "[encoded data removed]",
      "text/html": [
       "\n",
       "        <iframe\n",
       "            width=\"400\"\n",
       "            height=\"300\"\n",
       "            src=\"https://www.youtube.com/embed/0bi1PvXCbr8\"\n",
       "            frameborder=\"0\"\n",
       "            allowfullscreen\n",
       "        ></iframe>\n",
       "        "
      ],
      "text/plain": [
       "<IPython.lib.display.YouTubeVideo at 0x7f82e3f1d790>"
      ]
     },
     "execution_count": 8,
     "metadata": {},
     "output_type": "execute_result"
    }
   ],
   "source": [
    "from IPython.display import YouTubeVideo\n",
    "YouTubeVideo(video_id)"
   ]
  },
  {
   "cell_type": "code",
   "execution_count": 9,
   "id": "e7ce5946",
   "metadata": {
    "execution": {
     "iopub.execute_input": "2021-10-01T11:28:48.060936Z",
     "iopub.status.busy": "2021-10-01T11:28:48.060173Z",
     "iopub.status.idle": "2021-10-01T11:28:48.862437Z",
     "shell.execute_reply": "2021-10-01T11:28:48.861887Z",
     "shell.execute_reply.started": "2021-10-01T08:06:15.495735Z"
    },
    "papermill": {
     "duration": 0.823302,
     "end_time": "2021-10-01T11:28:48.862571",
     "exception": false,
     "start_time": "2021-10-01T11:28:48.039269",
     "status": "completed"
    },
    "tags": []
   },
   "outputs": [],
   "source": [
    "YouTubeTranscriptApi.get_transcript(video_id)\n",
    "transcript = YouTubeTranscriptApi.get_transcript(video_id)"
   ]
  },
  {
   "cell_type": "code",
   "execution_count": 10,
   "id": "c35e40d4",
   "metadata": {
    "execution": {
     "iopub.execute_input": "2021-10-01T11:28:48.902148Z",
     "iopub.status.busy": "2021-10-01T11:28:48.901461Z",
     "iopub.status.idle": "2021-10-01T11:28:48.904153Z",
     "shell.execute_reply": "2021-10-01T11:28:48.904562Z",
     "shell.execute_reply.started": "2021-10-01T08:06:21.235226Z"
    },
    "papermill": {
     "duration": 0.024931,
     "end_time": "2021-10-01T11:28:48.904687",
     "exception": false,
     "start_time": "2021-10-01T11:28:48.879756",
     "status": "completed"
    },
    "tags": []
   },
   "outputs": [
    {
     "data": {
      "text/plain": [
       "[{'text': \"He says, for Brutus' sake,\\nHe finds himself beholding to us all.\",\n",
       "  'start': 0.5,\n",
       "  'duration': 4.56},\n",
       " {'text': \"Fourth Citizen\\n'Twere best he speak no harm of Brutus here.\",\n",
       "  'start': 5.06,\n",
       "  'duration': 3.77},\n",
       " {'text': 'First Citizen\\nThis Caesar was a tyrant.',\n",
       "  'start': 8.83,\n",
       "  'duration': 1.599},\n",
       " {'text': \"Third Citizen\\nNay, that's certain:\",\n",
       "  'start': 10.429,\n",
       "  'duration': 1.151},\n",
       " {'text': 'We are blest that Rome is rid of him.',\n",
       "  'start': 11.58,\n",
       "  'duration': 2.059}]"
      ]
     },
     "execution_count": 10,
     "metadata": {},
     "output_type": "execute_result"
    }
   ],
   "source": [
    "transcript[0:5]"
   ]
  },
  {
   "cell_type": "code",
   "execution_count": 11,
   "id": "76fcfaef",
   "metadata": {
    "execution": {
     "iopub.execute_input": "2021-10-01T11:28:48.943766Z",
     "iopub.status.busy": "2021-10-01T11:28:48.943165Z",
     "iopub.status.idle": "2021-10-01T11:28:48.945701Z",
     "shell.execute_reply": "2021-10-01T11:28:48.946098Z",
     "shell.execute_reply.started": "2021-10-01T08:06:27.232982Z"
    },
    "papermill": {
     "duration": 0.024421,
     "end_time": "2021-10-01T11:28:48.946230",
     "exception": false,
     "start_time": "2021-10-01T11:28:48.921809",
     "status": "completed"
    },
    "tags": []
   },
   "outputs": [
    {
     "name": "stdout",
     "output_type": "stream",
     "text": [
      "8320\n"
     ]
    }
   ],
   "source": [
    "result = \"\"\n",
    "for i in transcript:\n",
    "    result += ' ' + i['text']\n",
    "#print(result)\n",
    "print(len(result))"
   ]
  },
  {
   "cell_type": "code",
   "execution_count": 12,
   "id": "b04aa2b7",
   "metadata": {
    "execution": {
     "iopub.execute_input": "2021-10-01T11:28:48.984834Z",
     "iopub.status.busy": "2021-10-01T11:28:48.984007Z",
     "iopub.status.idle": "2021-10-01T11:29:45.475475Z",
     "shell.execute_reply": "2021-10-01T11:29:45.474376Z",
     "shell.execute_reply.started": "2021-10-01T08:06:33.248929Z"
    },
    "papermill": {
     "duration": 56.512022,
     "end_time": "2021-10-01T11:29:45.475626",
     "exception": false,
     "start_time": "2021-10-01T11:28:48.963604",
     "status": "completed"
    },
    "tags": []
   },
   "outputs": [
    {
     "data": {
      "application/vnd.jupyter.widget-view+json": {
       "model_id": "80c3b747188e4d1e9c005f2bf69fdf02",
       "version_major": 2,
       "version_minor": 0
      },
      "text/plain": [
       "Downloading:   0%|          | 0.00/1.80k [00:00<?, ?B/s]"
      ]
     },
     "metadata": {},
     "output_type": "display_data"
    },
    {
     "data": {
      "application/vnd.jupyter.widget-view+json": {
       "model_id": "dd321df5506d4e7d8e36ef89bc1b69ac",
       "version_major": 2,
       "version_minor": 0
      },
      "text/plain": [
       "Downloading:   0%|          | 0.00/1.22G [00:00<?, ?B/s]"
      ]
     },
     "metadata": {},
     "output_type": "display_data"
    },
    {
     "data": {
      "application/vnd.jupyter.widget-view+json": {
       "model_id": "a0f74fd906394563ba6c2218f379f15a",
       "version_major": 2,
       "version_minor": 0
      },
      "text/plain": [
       "Downloading:   0%|          | 0.00/899k [00:00<?, ?B/s]"
      ]
     },
     "metadata": {},
     "output_type": "display_data"
    },
    {
     "data": {
      "application/vnd.jupyter.widget-view+json": {
       "model_id": "45186505a8e64fadb93dc1565bbe67a1",
       "version_major": 2,
       "version_minor": 0
      },
      "text/plain": [
       "Downloading:   0%|          | 0.00/456k [00:00<?, ?B/s]"
      ]
     },
     "metadata": {},
     "output_type": "display_data"
    },
    {
     "data": {
      "application/vnd.jupyter.widget-view+json": {
       "model_id": "d2f2f993e056461e989b43645a41f219",
       "version_major": 2,
       "version_minor": 0
      },
      "text/plain": [
       "Downloading:   0%|          | 0.00/26.0 [00:00<?, ?B/s]"
      ]
     },
     "metadata": {},
     "output_type": "display_data"
    }
   ],
   "source": [
    "summarizer = pipeline('summarization')"
   ]
  },
  {
   "cell_type": "code",
   "execution_count": 13,
   "id": "63e826d1",
   "metadata": {
    "execution": {
     "iopub.execute_input": "2021-10-01T11:29:45.523031Z",
     "iopub.status.busy": "2021-10-01T11:29:45.522511Z",
     "iopub.status.idle": "2021-10-01T11:31:14.576213Z",
     "shell.execute_reply": "2021-10-01T11:31:14.576621Z",
     "shell.execute_reply.started": "2021-10-01T08:07:23.296114Z"
    },
    "papermill": {
     "duration": 89.080851,
     "end_time": "2021-10-01T11:31:14.576768",
     "exception": false,
     "start_time": "2021-10-01T11:29:45.495917",
     "status": "completed"
    },
    "tags": []
   },
   "outputs": [
    {
     "name": "stdout",
     "output_type": "stream",
     "text": [
      "input text \n",
      " He says, for Brutus' sake,\n",
      "He finds himself beholding to us all. Fourth Citizen\n",
      "'Twere best he speak no harm of Brutus here. First Citizen\n",
      "This Caesar was a tyrant. Third Citizen\n",
      "Nay, that's certain: We are blest that Rome is rid of him. Second Citizen\n",
      "Peace! let us hear what Antony can say. ANTONY\n",
      "You gentle Romans,-- Citizens\n",
      "Peace, ho! let us hear him. ANTONY\n",
      "Friends, Romans, countrymen, lend me your ears;\n",
      "I come to bury Caesar, not to praise him. The evil that men do lives after them;\n",
      "The good is oft interred with their bones; So let it be with Caesar. The noble Brutus\n",
      "Hath told you Caesar was ambitious: If it were so, it was a grievous fault,\n",
      "And grievously hath Caesar answer'd it. Here, under leave of Brutus and the rest--\n",
      "For Brutus is an honourable man; So are they all, all honourable men--\n",
      "Come I to speak in Caesar's funeral. He was my friend, faithful and just to me:\n",
      "But Brutus says he was ambitious; And Brutus is an honourable man. He hath brought many captives home to Rome\n",
      "Summarized text\n",
      " Antony: 'I come to bury Caesar, not to praise him. The evil that men do lives after them; the good is oft interred with their bones; So let it be with Caesar. The noble Brutus tells you Caesar was ambitious: If it were so, it was a grievous fault, and grievously hath Caesar answer'd it. Here, under leave of Brutus and the rest--\n",
      "input text \n",
      "\n",
      "Whose ransoms did the general coffers fill: Did this in Caesar seem ambitious? When that the poor have cried, Caesar hath\n",
      "wept: Ambition should be made of sterner stuff:\n",
      "Yet Brutus says he was ambitious; And Brutus is an honourable man. You all did see that on the Lupercal\n",
      "I thrice presented him a kingly crown, Which he did thrice refuse: was this ambition? Yet Brutus says he was ambitious;\n",
      "And, sure, he is an honourable man. I speak not to disprove what Brutus spoke,\n",
      "But here I am to speak what I do know. You all did love him once, not without cause:\n",
      "What cause withholds you then, to mourn for him? O judgment! thou art fled to brutish beasts,\n",
      "And men have lost their reason. Bear with me;\n",
      "My heart is in the coffin there with Caesar, And I must pause till it come back to me. First Citizen\n",
      "Methinks there is much reason in his sayings. Second Citizen\n",
      "If thou consider rightly of the matter, Caesar has had great wrong. Third Citizen\n",
      "Has he, masters? I fear there will a worse come in his pl\n",
      "Summarized text\n",
      " First Citizen: \"If thou consider rightly of the matter, Caesar has had great wrong\" Second Citizen: \"If thee consider rightly, Caesar's had great right wrong. I fear there will be a worse come in his plaudits\" Third Citizen: 'If thee think there is much reason in his sayings. And, sure, he is an honourable man'\n",
      "input text \n",
      "ace. Fourth Citizen\n",
      "Mark'd ye his words? He would not take the crown;\n",
      "Therefore 'tis certain he was not ambitious. First Citizen\n",
      "If it be found so, some will dear abide it. Second Citizen\n",
      "Poor soul! his eyes are red as fire with weeping. Third Citizen\n",
      "There's not a nobler man in Rome than Antony. Fourth Citizen\n",
      "Now mark him, he begins again to speak. ANTONY\n",
      "But yesterday the word of Caesar might Have stood against the world; now lies he\n",
      "there. And none so poor to do him reverence. O masters, if I were disposed to stir\n",
      "Your hearts and minds to mutiny and rage, I should do Brutus wrong, and Cassius wrong,\n",
      "Who, you all know, are honourable men: I will not do them wrong; I rather choose\n",
      "To wrong the dead, to wrong myself and you, Than I will wrong such honourable men. But here's a parchment with the seal of Caesar;\n",
      "I found it in his closet, 'tis his will: Let but the commons hear this testament--\n",
      "Which, pardon me, I do not mean to read-- And they would go and kiss dead Caesar's wounds\n",
      "And \n",
      "Summarized text\n",
      " First Citizen: If I were disposed to stir your hearts and minds to mutiny and rage, I should do Brutus wrong, and Cassius wrong, I rather choose to wrong the dead, to wrong myself and you, Than I will wrong such honourable men. ace ace .\n",
      "input text \n",
      "dip their napkins in his sacred blood, Yea, beg a hair of him for memory,\n",
      "And, dying, mention it within their wills, Bequeathing it as a rich legacy\n",
      "Unto their issue. Fourth Citizen\n",
      "We'll hear the will: read it, Mark Antony. All\n",
      "The will, the will! we will hear Caesar's will. ANTONY\n",
      "Have patience, gentle friends, I must not read it;\n",
      "It is not meet you know how Caesar loved you. You are not wood, you are not stones, but\n",
      "men; And, being men, bearing the will of Caesar,\n",
      "It will inflame you, it will make you mad: 'Tis good you know not that you are his heirs;\n",
      "For, if you should, O, what would come of it! Fourth Citizen\n",
      "Read the will; we'll hear it, Antony; You shall read us the will, Caesar's will. ANTONY\n",
      "Will you be patient? will you stay awhile? I have o'ershot myself to tell you of it:\n",
      "I fear I wrong the honourable men Whose daggers have stabb'd Caesar; I do fear\n",
      "it. Fourth Citizen\n",
      "They were traitors: honourable men! All\n",
      "The will! the testament! Second Citizen\n",
      "They were villains, murder\n",
      "Summarized text\n",
      " We'll hear the will: read it, Mark Antony. All we will hear Caesar's will. Antony: 'I fear I wrong the honourable men Whose daggers have stabb'd Caesar; I do fear they were traitors. They were heroes, traitors, murder'\n",
      "input text \n",
      "ers: the will! read the will. ANTONY\n",
      "You will compel me, then, to read the will? Then make a ring about the corpse of Caesar,\n",
      "And let me show you him that made the will. Shall I descend? and will you give me leave? Several Citizens\n",
      "Come down. Second Citizen\n",
      "Descend. Third Citizen\n",
      "You shall have leave. ANTONY comes down\n",
      "Fourth Citizen A ring; stand round. First Citizen\n",
      "Stand from the hearse, stand from the body. Second Citizen\n",
      "Room for Antony, most noble Antony. ANTONY\n",
      "Nay, press not so upon me; stand far off. Several Citizens\n",
      "Stand back; room; bear back. ANTONY\n",
      "If you have tears, prepare to shed them now. You all do know this mantle: I remember\n",
      "The first time ever Caesar put it on; 'Twas on a summer's evening, in his tent,\n",
      "That day he overcame the Nervii: Look, in this place ran Cassius' dagger through:\n",
      "See what a rent the envious Casca made: Through this the well-beloved Brutus stabb'd;\n",
      "And as he pluck'd his cursed steel away, Mark how the blood of Caesar follow'd it,\n",
      "As rushing out o\n",
      "Summarized text\n",
      " The first time ever Caesar put it on was the first time he overcame the Nervii: 'Twas on a summer's evening, in his tent, with the blood of Caesar follow'd it, with Cassius' dagger through: \"See what a rent the envious Casca made: Through this the well-beloved Brutus stabb'd\"\n",
      "input text \n",
      "f doors, to be resolved If Brutus so unkindly knock'd, or no;\n",
      "For Brutus, as you know, was Caesar's angel: Judge, O you gods, how dearly Caesar loved\n",
      "him! This was the most unkindest cut of all;\n",
      "For when the noble Caesar saw him stab, Ingratitude, more strong than traitors' arms,\n",
      "Quite vanquish'd him: then burst his mighty heart;\n",
      "And, in his mantle muffling up his face, Even at the base of Pompey's statua,\n",
      "Which all the while ran blood, great Caesar fell. O, what a fall was there, my countrymen! Then I, and you, and all of us fell down,\n",
      "Whilst bloody treason flourish'd over us. O, now you weep; and, I perceive, you feel\n",
      "The dint of pity: these are gracious drops. Kind souls, what, weep you when you but behold\n",
      "Our Caesar's vesture wounded? Look you here,\n",
      "Here is himself, marr'd, as you see, with traitors. First Citizen\n",
      "O piteous spectacle! Second Citizen\n",
      "O noble Caesar! Third Citizen\n",
      "O woful day! Fourth Citizen\n",
      "O traitors, villains! First Citizen\n",
      "O most bloody sight! Second Citizen\n",
      "We w\n",
      "Summarized text\n",
      " Brutus, as you know, was Caesar's angel: Judge, O you gods, how dearly Caesar loved him! This was the most unkindest cut of all;. The noble Caesar saw him stab, Ingratitude, more strong than traitors' arms, vanquish'd him: then burst his mighty heart;. Then I, and you, and all of us fell down, while bloody treason flourish'd over us. O, now you weep; and, I perceive, you feel the dint of pity: these are gracious drops .\n",
      "input text \n",
      "ill be revenged. All\n",
      "Revenge! About! Seek! Burn! Fire! Kill! Slay! Let not a traitor live! ANTONY\n",
      "Stay, countrymen. First Citizen\n",
      "Peace there! hear the noble Antony. Second Citizen\n",
      "We'll hear him, we'll follow him, we'll die with him. ANTONY\n",
      "Good friends, sweet friends, let me not stir you up\n",
      "To such a sudden flood of mutiny. They that have done this deed are honourable:\n",
      "What private griefs they have, alas, I know not,\n",
      "That made them do it: they are wise and honourable, And will, no doubt, with reasons answer you. I come not, friends, to steal away your hearts:\n",
      "I am no orator, as Brutus is; But, as you know me all, a plain blunt man,\n",
      "That love my friend; and that they know full well\n",
      "That gave me public leave to speak of him: For I have neither wit, nor words, nor worth,\n",
      "Action, nor utterance, nor the power of speech, To stir men's blood: I only speak right on;\n",
      "I tell you that which you yourselves do know; Show you sweet Caesar's wounds, poor poor\n",
      "dumb mouths, And bid them speak for me:\n",
      "Summarized text\n",
      " First Citizen: \"Peace there! Peace there! hear the noble Antony. We'll hear him, we'll follow him, and we'll die with him\" Second Citizen: 'Let not a traitor live!' Antony: \"I am no orator, as Brutus is; But, as you know me all, a plain blunt man, that love my friend\"\n",
      "input text \n",
      " but were I Brutus,\n",
      "And Brutus Antony, there were an Antony Would ruffle up your spirits and put a tongue\n",
      "In every wound of Caesar that should move The stones of Rome to rise and mutiny. All\n",
      "We'll mutiny. First Citizen\n",
      "We'll burn the house of Brutus. Third Citizen\n",
      "Away, then! come, seek the conspirators. ANTONY\n",
      "Yet hear me, countrymen; yet hear me speak. All\n",
      "Peace, ho! Hear Antony. Most noble Antony! ANTONY\n",
      "Why, friends, you go to do you know not what: Wherein hath Caesar thus deserved your loves? Alas, you know not: I must tell you then:\n",
      "You have forgot the will I told you of. All\n",
      "Most true. The will! Let's stay and hear the will. ANTONY\n",
      "Here is the will, and under Caesar's seal. To every Roman citizen he gives,\n",
      "To every several man, seventy-five drachmas. Second Citizen\n",
      "Most noble Caesar! We'll revenge his death. Third Citizen\n",
      "O royal Caesar! ANTONY\n",
      "Hear me with patience. All\n",
      "Peace, ho! ANTONY\n",
      "Moreover, he hath left you all his walks, His private arbours and new-planted orchards,\n",
      "On \n"
     ]
    },
    {
     "name": "stderr",
     "output_type": "stream",
     "text": [
      "Your max_length is set to 142, but you input_length is only 82. You might consider decreasing max_length manually, e.g. summarizer('...', max_length=50)\n"
     ]
    },
    {
     "name": "stdout",
     "output_type": "stream",
     "text": [
      "Summarized text\n",
      " First Citizen: We'll burn the house of Brutus. We'll revenge his death. Second Citizen: Most noble Caesar! We'll revenge his death. Third Citizen: We'll mutiny. First Citizen; we'll burn Brutus' house .\n",
      "input text \n",
      "this side Tiber; he hath left them you, And to your heirs for ever, common pleasures,\n",
      "To walk abroad, and recreate yourselves. Here was a Caesar! when comes such another? First Citizen\n",
      "Never, never. Come, away, away! We'll burn his body in the holy place,\n",
      "And with the brands fire the traitors' houses. Take up the body.\n",
      "Summarized text\n",
      " We'll burn his body in the holy place, and with the brands fire the traitors' houses. Take up the body. this side Tiber; he hath left them you, And to your heirs for ever, common pleasures, to walk abroad, and recreate yourselves.\n"
     ]
    }
   ],
   "source": [
    "num_iters = int(len(result)/1000)\n",
    "summarized_text = []\n",
    "for i in range(0, num_iters + 1):\n",
    "  start = 0\n",
    "  start = i * 1000\n",
    "  end = (i + 1) * 1000\n",
    "  print(\"input text \\n\" + result[start:end])\n",
    "  out = summarizer(result[start:end])\n",
    "  out = out[0]\n",
    "  out = out['summary_text']\n",
    "  print(\"Summarized text\\n\"+out)\n",
    "  summarized_text.append(out)\n",
    "\n",
    "#print(summarized_text)"
   ]
  },
  {
   "cell_type": "code",
   "execution_count": 14,
   "id": "d286e19d",
   "metadata": {
    "execution": {
     "iopub.execute_input": "2021-10-01T11:31:14.627099Z",
     "iopub.status.busy": "2021-10-01T11:31:14.626551Z",
     "iopub.status.idle": "2021-10-01T11:31:14.628970Z",
     "shell.execute_reply": "2021-10-01T11:31:14.629380Z",
     "shell.execute_reply.started": "2021-10-01T08:08:53.367812Z"
    },
    "papermill": {
     "duration": 0.029996,
     "end_time": "2021-10-01T11:31:14.629498",
     "exception": false,
     "start_time": "2021-10-01T11:31:14.599502",
     "status": "completed"
    },
    "tags": []
   },
   "outputs": [
    {
     "data": {
      "text/plain": [
       "2566"
      ]
     },
     "execution_count": 14,
     "metadata": {},
     "output_type": "execute_result"
    }
   ],
   "source": [
    "len(str(summarized_text))"
   ]
  },
  {
   "cell_type": "code",
   "execution_count": 15,
   "id": "64d299e1",
   "metadata": {
    "execution": {
     "iopub.execute_input": "2021-10-01T11:31:14.679053Z",
     "iopub.status.busy": "2021-10-01T11:31:14.678433Z",
     "iopub.status.idle": "2021-10-01T11:31:14.681069Z",
     "shell.execute_reply": "2021-10-01T11:31:14.681475Z",
     "shell.execute_reply.started": "2021-10-01T08:08:53.376501Z"
    },
    "papermill": {
     "duration": 0.029553,
     "end_time": "2021-10-01T11:31:14.681584",
     "exception": false,
     "start_time": "2021-10-01T11:31:14.652031",
     "status": "completed"
    },
    "tags": []
   },
   "outputs": [
    {
     "data": {
      "text/plain": [
       "'[\" Antony: \\'I come to bury Caesar, not to praise him. The evil that men do lives after them; the good is oft interred with their bones; So let it be with Caesar. The noble Brutus tells you Caesar was ambitious: If it were so, it was a grievous fault, and grievously hath Caesar answer\\'d it. Here, under leave of Brutus and the rest--\", \\' First Citizen: \"If thou consider rightly of the matter, Caesar has had great wrong\" Second Citizen:\\\\xa0\"If thee consider rightly, Caesar\\\\\\'s had great right wrong. I fear there will be a worse come in his plaudits\" Third Citizen: \\\\\\'If thee think there is much reason in his sayings. And, sure, he is an honourable man\\\\\\'\\', \\' First Citizen: If I were disposed to stir your hearts and minds to mutiny and rage, I should do Brutus wrong, and Cassius wrong, I rather choose to wrong the dead, to wrong myself and you, Than I will wrong such honourable men. ace ace .\\', \" We\\'ll hear the will: read it, Mark Antony. All we will hear Caesar\\'s will. Antony: \\'I fear I wrong the honourable men Whose daggers have stabb\\'d Caesar; I do fear they were traitors. They were heroes, traitors, murder\\'\", \\' The first time ever Caesar put it on was the first time he overcame the Nervii: \\\\\\'Twas on a summer\\\\\\'s evening, in his tent, with the blood of Caesar follow\\\\\\'d it, with Cassius\\\\\\' dagger through: \"See what a rent the envious Casca made: Through this the well-beloved Brutus stabb\\\\\\'d\"\\', \" Brutus, as you know, was Caesar\\'s angel: Judge, O you gods, how dearly Caesar loved him! This was the most unkindest cut of all;. The noble Caesar saw him stab, Ingratitude, more strong than traitors\\' arms, vanquish\\'d him: then burst his mighty heart;. Then I, and you, and all of us fell down, while bloody treason flourish\\'d over us. O, now you weep; and, I perceive, you feel the dint of pity: these are gracious drops .\", \\' First Citizen: \"Peace there! Peace there! hear the noble Antony. We\\\\\\'ll hear him, we\\\\\\'ll follow him, and we\\\\\\'ll die with him\" Second Citizen: \\\\\\'Let not a traitor live!\\\\\\' Antony: \"I am no orator, as Brutus is; But, as you know me all, a plain blunt man, that love my friend\"\\', \" First Citizen: We\\'ll burn the house of Brutus. We\\'ll revenge his death. Second Citizen: Most noble Caesar! We\\'ll\\\\xa0revenge\\\\xa0his death. Third Citizen:\\\\xa0We\\'ll mutiny. First Citizen; we\\'ll burn Brutus\\' house .\", \" We\\'ll burn his body in the holy place, and with the brands fire the traitors\\' houses. Take up the body. this side Tiber; he hath left them you, And to your heirs for ever, common pleasures, to walk abroad, and recreate yourselves.\"]'"
      ]
     },
     "execution_count": 15,
     "metadata": {},
     "output_type": "execute_result"
    }
   ],
   "source": [
    "str(summarized_text)"
   ]
  },
  {
   "cell_type": "markdown",
   "id": "a902f103",
   "metadata": {
    "papermill": {
     "duration": 0.022653,
     "end_time": "2021-10-01T11:31:14.727105",
     "exception": false,
     "start_time": "2021-10-01T11:31:14.704452",
     "status": "completed"
    },
    "tags": []
   },
   "source": [
    "# News Article"
   ]
  },
  {
   "cell_type": "code",
   "execution_count": 16,
   "id": "342d4e82",
   "metadata": {
    "execution": {
     "iopub.execute_input": "2021-10-01T11:31:14.780471Z",
     "iopub.status.busy": "2021-10-01T11:31:14.775183Z",
     "iopub.status.idle": "2021-10-01T11:31:14.783383Z",
     "shell.execute_reply": "2021-10-01T11:31:14.782944Z",
     "shell.execute_reply.started": "2021-10-01T08:11:29.661732Z"
    },
    "papermill": {
     "duration": 0.033619,
     "end_time": "2021-10-01T11:31:14.783486",
     "exception": false,
     "start_time": "2021-10-01T11:31:14.749867",
     "status": "completed"
    },
    "tags": []
   },
   "outputs": [],
   "source": [
    "result=\"\"\"India has approved a new COVID-19 vaccine that uses circular strands of DNA to prime the immune system against the virus SARS-CoV-2. Researchers have welcomed news of the first DNA vaccine for people to receive approval anywhere in the world, and say many other DNA vaccines might soon be hot on its heels.\n",
    "\n",
    "ZyCoV-D, which is administered into the skin without an injection, has been found to be 67% protective against symptomatic COVID-19 in clinical trials, and will probably start to be administered in India this month. Although the efficacy is not particularly high compared to that of many other COVID-19 vaccines, the fact that it is a DNA vaccine is significant, say researchers.\n",
    "\n",
    "It is proof of the principle that DNA vaccines work and can help in controlling the pandemic, says Peter Richmond, a paediatric immunologist at the University of Western Australia in Perth. “This is a really important step forward in the fight to defeat COVID-19 globally, because it demonstrates that we have another class of vaccines that we can use.”\n",
    "\n",
    "Close to a dozen DNA vaccines against COVID-19 are in clinical trials globally, and at least as many again are in earlier stages of development. DNA vaccines are also being developed for many other diseases.\n",
    "\n",
    "“If DNA vaccines prove to be successful, this is really the future of vaccinology” because they are easy to manufacture, says Shahid Jameel, a virologist at Ashoka University in Sonipat, India.\n",
    "\n",
    "Fast-tracked development\n",
    "The urgency of combating COVID-19 has fast-tracked the development of vaccines that use genetic technology, such as messenger RNA and DNA vaccines, says David Weiner, director of the Vaccine & Immunotherapy Center at the Wistar Institute in Philadelphia, Pennsylvania.\n",
    "\n",
    "RNA vaccines were quicker to show strong immune responses in clinical trials; they have now been delivered to hundreds of millions of people around the world. But DNA vaccines have a number of benefits, because they are easy to produce and the finished products are more stable than mRNA vaccines, which typically require storage at very low temperatures.\n",
    "\n",
    "ZyCoV-D was developed by Indian pharmaceutical firm Zydus Cadila, headquartered in Ahmedabad. On 20 August, India’s drug regulator authorized the vaccine for people aged 12 and older. The efficacy figure of 67% came from trials involving more than 28,000 participants, which saw 21 symptomatic cases of COVID-19 in the vaccinated group and 60 among people who received a placebo.\n",
    "\n",
    "ZyCoV-D contains circular strands of DNA known as plasmids, which encode the spike protein of SARS-CoV-2, together with a promoter sequence for turning the gene on. Once the plasmids enter the nuclei of cells, they are converted into mRNA, which travels to the main body of the cell, the cytoplasm, and is translated into the spike protein itself. The body’s immune system then mounts a response against the protein, and produces tailored immune cells that can clear future infections. Plasmids typically degrade within weeks to months, but the immunity remains.\n",
    "\n",
    "Both DNA and mRNA vaccines have been under development since the 1990s, says Weiner. The challenge for DNA vaccines is that they need to make it all the way to the cell nucleus, unlike mRNA vaccines, which just need to get to the cytoplasm, says Jameel. So, for a long time, DNA vaccines struggled to induce potent immune responses in clinical trials, which is why they had been approved for use as vaccines only in animals, such as horses, until now.\n",
    "\n",
    "Injection-free vaccine\n",
    "To solve this problem, ZyCoV-D is deposited under the skin, as opposed to deep in muscle tissue. The area under the skin is rich in immune cells that gobble up foreign objects, such as vaccine particles, and process them. “This helps capture the DNA far more efficiently than in the muscle,” Jameel says. Unusually, the vaccine is delivered using a needle-free device pressed against the skin, which creates a fine, high-pressure stream of fluid that punctures the surface and is less painful than an injection.\n",
    "\n",
    "But despite being more potent than previous DNA vaccines, ZyCoV-D requires a minimum of three doses to achieve its initial efficacy. This is likely to add to the logistical challenge of administering the vaccine during the current pandemic, says Jameel.\n",
    "\n",
    "Although ZyCoV-D’s efficacy seems to be lower than the 90% or higher achieved by some mRNA vaccines, the figures are not comparable, says Jameel. The ZyCoV-D trials in India earlier this year were conducted while the Delta variant of SARS-CoV-2 was the dominant variant in circulation, whereas earlier mRNA vaccine trials were conducted when less transmissible variants were circulating. “The efficacy is essentially against the Delta variant, so that is pretty good,” he says.\n",
    "\n",
    "Some researchers have criticized a lack of transparency in the approval process, because no late-stage trial results have yet been published. Zydus Cadila says the trial is still under way and it will submit the full analysis for publication shortly. The company says the first doses will start to be administered in India in September and it plans to produce up to 50 million doses by early next year.\n",
    "\"\"\""
   ]
  },
  {
   "cell_type": "code",
   "execution_count": 17,
   "id": "fb587a73",
   "metadata": {
    "execution": {
     "iopub.execute_input": "2021-10-01T11:31:14.834913Z",
     "iopub.status.busy": "2021-10-01T11:31:14.831960Z",
     "iopub.status.idle": "2021-10-01T11:32:06.233640Z",
     "shell.execute_reply": "2021-10-01T11:32:06.234171Z",
     "shell.execute_reply.started": "2021-10-01T08:11:31.669157Z"
    },
    "papermill": {
     "duration": 51.428057,
     "end_time": "2021-10-01T11:32:06.234325",
     "exception": false,
     "start_time": "2021-10-01T11:31:14.806268",
     "status": "completed"
    },
    "tags": []
   },
   "outputs": [
    {
     "name": "stdout",
     "output_type": "stream",
     "text": [
      "input text \n",
      "India has approved a new COVID-19 vaccine that uses circular strands of DNA to prime the immune system against the virus SARS-CoV-2. Researchers have welcomed news of the first DNA vaccine for people to receive approval anywhere in the world, and say many other DNA vaccines might soon be hot on its heels.\n",
      "\n",
      "ZyCoV-D, which is administered into the skin without an injection, has been found to be 67% protective against symptomatic COVID-19 in clinical trials, and will probably start to be administered in India this month. Although the efficacy is not particularly high compared to that of many other COVID-19 vaccines, the fact that it is a DNA vaccine is significant, say researchers.\n",
      "\n",
      "It is proof of the principle that DNA vaccines work and can help in controlling the pandemic, says Peter Richmond, a paediatric immunologist at the University of Western Australia in Perth. “This is a really important step forward in the fight to defeat COVID-19 globally, because it demonstrates that we have a\n",
      "Summarized text\n",
      " India has approved a new COVID-19 vaccine that uses circular strands of DNA to prime the immune system against the virus SARS-CoV-2 . Researchers welcome news of the first DNA vaccine for people to receive approval anywhere in the world, and say many other DNA vaccines might soon be hot on its heels .\n",
      "input text \n",
      "nother class of vaccines that we can use.”\n",
      "\n",
      "Close to a dozen DNA vaccines against COVID-19 are in clinical trials globally, and at least as many again are in earlier stages of development. DNA vaccines are also being developed for many other diseases.\n",
      "\n",
      "“If DNA vaccines prove to be successful, this is really the future of vaccinology” because they are easy to manufacture, says Shahid Jameel, a virologist at Ashoka University in Sonipat, India.\n",
      "\n",
      "Fast-tracked development\n",
      "The urgency of combating COVID-19 has fast-tracked the development of vaccines that use genetic technology, such as messenger RNA and DNA vaccines, says David Weiner, director of the Vaccine & Immunotherapy Center at the Wistar Institute in Philadelphia, Pennsylvania.\n",
      "\n",
      "RNA vaccines were quicker to show strong immune responses in clinical trials; they have now been delivered to hundreds of millions of people around the world. But DNA vaccines have a number of benefits, because they are easy to produce and the finished prod\n",
      "Summarized text\n",
      " Close to a dozen DNA vaccines against COVID-19 are in clinical trials globally, and at least as many again are in earlier stages of development . DNA vaccines are also being developed for many other diseases, says Shahid Jameel, a virologist at Ashoka University in India .\n",
      "input text \n",
      "ucts are more stable than mRNA vaccines, which typically require storage at very low temperatures.\n",
      "\n",
      "ZyCoV-D was developed by Indian pharmaceutical firm Zydus Cadila, headquartered in Ahmedabad. On 20 August, India’s drug regulator authorized the vaccine for people aged 12 and older. The efficacy figure of 67% came from trials involving more than 28,000 participants, which saw 21 symptomatic cases of COVID-19 in the vaccinated group and 60 among people who received a placebo.\n",
      "\n",
      "ZyCoV-D contains circular strands of DNA known as plasmids, which encode the spike protein of SARS-CoV-2, together with a promoter sequence for turning the gene on. Once the plasmids enter the nuclei of cells, they are converted into mRNA, which travels to the main body of the cell, the cytoplasm, and is translated into the spike protein itself. The body’s immune system then mounts a response against the protein, and produces tailored immune cells that can clear future infections. Plasmids typically degrade within\n",
      "Summarized text\n",
      " The efficacy figure of 67% came from trials involving more than 28,000 participants, which saw 21 symptomatic cases of COVID-19 in the vaccinated group and 60 among people who received a placebo . India’s drug regulator authorized the vaccine for people aged 12 and older .\n",
      "input text \n",
      " weeks to months, but the immunity remains.\n",
      "\n",
      "Both DNA and mRNA vaccines have been under development since the 1990s, says Weiner. The challenge for DNA vaccines is that they need to make it all the way to the cell nucleus, unlike mRNA vaccines, which just need to get to the cytoplasm, says Jameel. So, for a long time, DNA vaccines struggled to induce potent immune responses in clinical trials, which is why they had been approved for use as vaccines only in animals, such as horses, until now.\n",
      "\n",
      "Injection-free vaccine\n",
      "To solve this problem, ZyCoV-D is deposited under the skin, as opposed to deep in muscle tissue. The area under the skin is rich in immune cells that gobble up foreign objects, such as vaccine particles, and process them. “This helps capture the DNA far more efficiently than in the muscle,” Jameel says. Unusually, the vaccine is delivered using a needle-free device pressed against the skin, which creates a fine, high-pressure stream of fluid that punctures the surface and is\n",
      "Summarized text\n",
      " DNA and mRNA vaccines have been under development since the 1990s . The challenge for DNA vaccines is that they need to make it all the way to the cell nucleus, unlike mRNA vaccines, which just need to get to the cytoplasm . Unusually, the vaccine is delivered using a needle-free device pressed against the skin .\n",
      "input text \n",
      " less painful than an injection.\n",
      "\n",
      "But despite being more potent than previous DNA vaccines, ZyCoV-D requires a minimum of three doses to achieve its initial efficacy. This is likely to add to the logistical challenge of administering the vaccine during the current pandemic, says Jameel.\n",
      "\n",
      "Although ZyCoV-D’s efficacy seems to be lower than the 90% or higher achieved by some mRNA vaccines, the figures are not comparable, says Jameel. The ZyCoV-D trials in India earlier this year were conducted while the Delta variant of SARS-CoV-2 was the dominant variant in circulation, whereas earlier mRNA vaccine trials were conducted when less transmissible variants were circulating. “The efficacy is essentially against the Delta variant, so that is pretty good,” he says.\n",
      "\n",
      "Some researchers have criticized a lack of transparency in the approval process, because no late-stage trial results have yet been published. Zydus Cadila says the trial is still under way and it will submit the full analysis for pu\n"
     ]
    },
    {
     "name": "stderr",
     "output_type": "stream",
     "text": [
      "Your max_length is set to 142, but you input_length is only 37. You might consider decreasing max_length manually, e.g. summarizer('...', max_length=50)\n"
     ]
    },
    {
     "name": "stdout",
     "output_type": "stream",
     "text": [
      "Summarized text\n",
      " Despite being more potent than previous DNA vaccines, ZyCoV-D requires a minimum of three doses to achieve its initial efficacy . This is likely to add to the logistical challenge of administering the vaccine during the current pandemic . Some researchers have criticized a lack of transparency in the approval process, because no late-stage trial results have yet been published .\n",
      "input text \n",
      "blication shortly. The company says the first doses will start to be administered in India in September and it plans to produce up to 50 million doses by early next year.\n",
      "\n",
      "Summarized text\n",
      " The company says the first doses will start to be administered in India in September . It plans to produce up to 50 million doses of the drug by early next year . The company plans to be able to use the drug in up to half a million doses by early 2015 .\n"
     ]
    }
   ],
   "source": [
    "num_iters = int(len(result)/1000)\n",
    "summarized_text = []\n",
    "for i in range(0, num_iters + 1):\n",
    "  start = 0\n",
    "  start = i * 1000\n",
    "  end = (i + 1) * 1000\n",
    "  print(\"input text \\n\" + result[start:end])\n",
    "  out = summarizer(result[start:end])\n",
    "  out = out[0]\n",
    "  out = out['summary_text']\n",
    "  print(\"Summarized text\\n\"+out)\n",
    "  summarized_text.append(out)"
   ]
  },
  {
   "cell_type": "code",
   "execution_count": 18,
   "id": "14e1ecfc",
   "metadata": {
    "execution": {
     "iopub.execute_input": "2021-10-01T11:32:06.289286Z",
     "iopub.status.busy": "2021-10-01T11:32:06.288696Z",
     "iopub.status.idle": "2021-10-01T11:32:06.292497Z",
     "shell.execute_reply": "2021-10-01T11:32:06.292899Z",
     "shell.execute_reply.started": "2021-10-01T08:12:23.338882Z"
    },
    "papermill": {
     "duration": 0.033441,
     "end_time": "2021-10-01T11:32:06.293024",
     "exception": false,
     "start_time": "2021-10-01T11:32:06.259583",
     "status": "completed"
    },
    "tags": []
   },
   "outputs": [
    {
     "data": {
      "text/plain": [
       "1826"
      ]
     },
     "execution_count": 18,
     "metadata": {},
     "output_type": "execute_result"
    }
   ],
   "source": [
    "len(str(summarized_text))"
   ]
  },
  {
   "cell_type": "code",
   "execution_count": 19,
   "id": "d9de6290",
   "metadata": {
    "execution": {
     "iopub.execute_input": "2021-10-01T11:32:06.348271Z",
     "iopub.status.busy": "2021-10-01T11:32:06.347630Z",
     "iopub.status.idle": "2021-10-01T11:32:06.350346Z",
     "shell.execute_reply": "2021-10-01T11:32:06.350738Z",
     "shell.execute_reply.started": "2021-10-01T08:12:23.346366Z"
    },
    "papermill": {
     "duration": 0.032596,
     "end_time": "2021-10-01T11:32:06.350869",
     "exception": false,
     "start_time": "2021-10-01T11:32:06.318273",
     "status": "completed"
    },
    "tags": []
   },
   "outputs": [
    {
     "data": {
      "text/plain": [
       "\"[' India has approved a new COVID-19 vaccine that uses circular strands of DNA to prime the immune system against the virus SARS-CoV-2 . Researchers welcome news of the first DNA vaccine for people to receive approval anywhere in the world, and say many other DNA vaccines might soon be hot on its heels .', ' Close to a dozen DNA vaccines against COVID-19 are in clinical trials globally, and at least as many again are in earlier stages of development . DNA vaccines are also being developed for many other diseases, says Shahid Jameel, a virologist at Ashoka University in India .', ' The efficacy figure of 67% came from trials involving more than 28,000 participants, which saw 21 symptomatic cases of COVID-19 in the vaccinated group and 60 among people who received a placebo . India’s drug regulator authorized the vaccine for people aged 12 and older .', ' DNA and mRNA vaccines have been under development since the 1990s . The challenge for DNA vaccines is that they need to make it all the way to the cell nucleus, unlike mRNA vaccines, which just need to get to the cytoplasm . Unusually, the vaccine is delivered using a needle-free device pressed against the skin .', ' Despite being more potent than previous DNA vaccines, ZyCoV-D requires a minimum of three doses to achieve its initial efficacy . This is likely to add to the logistical challenge of administering the vaccine during the current pandemic . Some researchers have criticized a lack of transparency in the approval process, because no late-stage trial results have yet been published .', ' The company says the first doses will start to be administered in India in September . It plans to produce up to 50 million doses of the drug by early next year . The company plans to be able to use the drug in up to half a million doses by early 2015 .']\""
      ]
     },
     "execution_count": 19,
     "metadata": {},
     "output_type": "execute_result"
    }
   ],
   "source": [
    "str(summarized_text)"
   ]
  },
  {
   "cell_type": "code",
   "execution_count": null,
   "id": "08c50385",
   "metadata": {
    "papermill": {
     "duration": 0.025507,
     "end_time": "2021-10-01T11:32:06.401957",
     "exception": false,
     "start_time": "2021-10-01T11:32:06.376450",
     "status": "completed"
    },
    "tags": []
   },
   "outputs": [],
   "source": []
  }
 ],
 "metadata": {
  "kernelspec": {
   "display_name": "Python 3",
   "language": "python",
   "name": "python3"
  },
  "language_info": {
   "codemirror_mode": {
    "name": "ipython",
    "version": 3
   },
   "file_extension": ".py",
   "mimetype": "text/x-python",
   "name": "python",
   "nbconvert_exporter": "python",
   "pygments_lexer": "ipython3",
   "version": "3.7.10"
  },
  "papermill": {
   "default_parameters": {},
   "duration": 226.660312,
   "end_time": "2021-10-01T11:32:09.909019",
   "environment_variables": {},
   "exception": null,
   "input_path": "__notebook__.ipynb",
   "output_path": "__notebook__.ipynb",
   "parameters": {},
   "start_time": "2021-10-01T11:28:23.248707",
   "version": "2.3.3"
  },
  "widgets": {
   "application/vnd.jupyter.widget-state+json": {
    "state": {
     "00aca27dd55c4ec08e95bc21c98b3399": {
      "model_module": "@jupyter-widgets/base",
      "model_module_version": "1.2.0",
      "model_name": "LayoutModel",
      "state": {
       "_model_module": "@jupyter-widgets/base",
       "_model_module_version": "1.2.0",
       "_model_name": "LayoutModel",
       "_view_count": null,
       "_view_module": "@jupyter-widgets/base",
       "_view_module_version": "1.2.0",
       "_view_name": "LayoutView",
       "align_content": null,
       "align_items": null,
       "align_self": null,
       "border": null,
       "bottom": null,
       "display": null,
       "flex": null,
       "flex_flow": null,
       "grid_area": null,
       "grid_auto_columns": null,
       "grid_auto_flow": null,
       "grid_auto_rows": null,
       "grid_column": null,
       "grid_gap": null,
       "grid_row": null,
       "grid_template_areas": null,
       "grid_template_columns": null,
       "grid_template_rows": null,
       "height": null,
       "justify_content": null,
       "justify_items": null,
       "left": null,
       "margin": null,
       "max_height": null,
       "max_width": null,
       "min_height": null,
       "min_width": null,
       "object_fit": null,
       "object_position": null,
       "order": null,
       "overflow": null,
       "overflow_x": null,
       "overflow_y": null,
       "padding": null,
       "right": null,
       "top": null,
       "visibility": null,
       "width": null
      }
     },
     "0291385c35ef4da5901b3da235891456": {
      "model_module": "@jupyter-widgets/base",
      "model_module_version": "1.2.0",
      "model_name": "LayoutModel",
      "state": {
       "_model_module": "@jupyter-widgets/base",
       "_model_module_version": "1.2.0",
       "_model_name": "LayoutModel",
       "_view_count": null,
       "_view_module": "@jupyter-widgets/base",
       "_view_module_version": "1.2.0",
       "_view_name": "LayoutView",
       "align_content": null,
       "align_items": null,
       "align_self": null,
       "border": null,
       "bottom": null,
       "display": null,
       "flex": null,
       "flex_flow": null,
       "grid_area": null,
       "grid_auto_columns": null,
       "grid_auto_flow": null,
       "grid_auto_rows": null,
       "grid_column": null,
       "grid_gap": null,
       "grid_row": null,
       "grid_template_areas": null,
       "grid_template_columns": null,
       "grid_template_rows": null,
       "height": null,
       "justify_content": null,
       "justify_items": null,
       "left": null,
       "margin": null,
       "max_height": null,
       "max_width": null,
       "min_height": null,
       "min_width": null,
       "object_fit": null,
       "object_position": null,
       "order": null,
       "overflow": null,
       "overflow_x": null,
       "overflow_y": null,
       "padding": null,
       "right": null,
       "top": null,
       "visibility": null,
       "width": null
      }
     },
     "060204b290e440598c0f967fd061c825": {
      "model_module": "@jupyter-widgets/controls",
      "model_module_version": "1.5.0",
      "model_name": "DescriptionStyleModel",
      "state": {
       "_model_module": "@jupyter-widgets/controls",
       "_model_module_version": "1.5.0",
       "_model_name": "DescriptionStyleModel",
       "_view_count": null,
       "_view_module": "@jupyter-widgets/base",
       "_view_module_version": "1.2.0",
       "_view_name": "StyleView",
       "description_width": ""
      }
     },
     "0866e0cfca304c04aa50ff629f9f5d43": {
      "model_module": "@jupyter-widgets/base",
      "model_module_version": "1.2.0",
      "model_name": "LayoutModel",
      "state": {
       "_model_module": "@jupyter-widgets/base",
       "_model_module_version": "1.2.0",
       "_model_name": "LayoutModel",
       "_view_count": null,
       "_view_module": "@jupyter-widgets/base",
       "_view_module_version": "1.2.0",
       "_view_name": "LayoutView",
       "align_content": null,
       "align_items": null,
       "align_self": null,
       "border": null,
       "bottom": null,
       "display": null,
       "flex": null,
       "flex_flow": null,
       "grid_area": null,
       "grid_auto_columns": null,
       "grid_auto_flow": null,
       "grid_auto_rows": null,
       "grid_column": null,
       "grid_gap": null,
       "grid_row": null,
       "grid_template_areas": null,
       "grid_template_columns": null,
       "grid_template_rows": null,
       "height": null,
       "justify_content": null,
       "justify_items": null,
       "left": null,
       "margin": null,
       "max_height": null,
       "max_width": null,
       "min_height": null,
       "min_width": null,
       "object_fit": null,
       "object_position": null,
       "order": null,
       "overflow": null,
       "overflow_x": null,
       "overflow_y": null,
       "padding": null,
       "right": null,
       "top": null,
       "visibility": null,
       "width": null
      }
     },
     "0a64aa10b18f42a1a7d5cb1cc0f9b290": {
      "model_module": "@jupyter-widgets/controls",
      "model_module_version": "1.5.0",
      "model_name": "HTMLModel",
      "state": {
       "_dom_classes": [],
       "_model_module": "@jupyter-widgets/controls",
       "_model_module_version": "1.5.0",
       "_model_name": "HTMLModel",
       "_view_count": null,
       "_view_module": "@jupyter-widgets/controls",
       "_view_module_version": "1.5.0",
       "_view_name": "HTMLView",
       "description": "",
       "description_tooltip": null,
       "layout": "IPY_MODEL_2829999df44b4fef9a2e94f3216733c2",
       "placeholder": "​",
       "style": "IPY_MODEL_eb9f6630b4054a79be570e22b8b7ab64",
       "value": "Downloading: 100%"
      }
     },
     "0b188633a6bd460394a161ef87f981f4": {
      "model_module": "@jupyter-widgets/controls",
      "model_module_version": "1.5.0",
      "model_name": "FloatProgressModel",
      "state": {
       "_dom_classes": [],
       "_model_module": "@jupyter-widgets/controls",
       "_model_module_version": "1.5.0",
       "_model_name": "FloatProgressModel",
       "_view_count": null,
       "_view_module": "@jupyter-widgets/controls",
       "_view_module_version": "1.5.0",
       "_view_name": "ProgressView",
       "bar_style": "success",
       "description": "",
       "description_tooltip": null,
       "layout": "IPY_MODEL_baf98cd010c946ffab966ab2f03d98ce",
       "max": 1802.0,
       "min": 0.0,
       "orientation": "horizontal",
       "style": "IPY_MODEL_c7b9ecce48794a2da5c69c1142015cd1",
       "value": 1802.0
      }
     },
     "0b5fa816f0b84e4dac08b34c530862d0": {
      "model_module": "@jupyter-widgets/controls",
      "model_module_version": "1.5.0",
      "model_name": "ProgressStyleModel",
      "state": {
       "_model_module": "@jupyter-widgets/controls",
       "_model_module_version": "1.5.0",
       "_model_name": "ProgressStyleModel",
       "_view_count": null,
       "_view_module": "@jupyter-widgets/base",
       "_view_module_version": "1.2.0",
       "_view_name": "StyleView",
       "bar_color": null,
       "description_width": ""
      }
     },
     "0ba20f0ebf4341cbae8707859fe1fd4a": {
      "model_module": "@jupyter-widgets/base",
      "model_module_version": "1.2.0",
      "model_name": "LayoutModel",
      "state": {
       "_model_module": "@jupyter-widgets/base",
       "_model_module_version": "1.2.0",
       "_model_name": "LayoutModel",
       "_view_count": null,
       "_view_module": "@jupyter-widgets/base",
       "_view_module_version": "1.2.0",
       "_view_name": "LayoutView",
       "align_content": null,
       "align_items": null,
       "align_self": null,
       "border": null,
       "bottom": null,
       "display": null,
       "flex": null,
       "flex_flow": null,
       "grid_area": null,
       "grid_auto_columns": null,
       "grid_auto_flow": null,
       "grid_auto_rows": null,
       "grid_column": null,
       "grid_gap": null,
       "grid_row": null,
       "grid_template_areas": null,
       "grid_template_columns": null,
       "grid_template_rows": null,
       "height": null,
       "justify_content": null,
       "justify_items": null,
       "left": null,
       "margin": null,
       "max_height": null,
       "max_width": null,
       "min_height": null,
       "min_width": null,
       "object_fit": null,
       "object_position": null,
       "order": null,
       "overflow": null,
       "overflow_x": null,
       "overflow_y": null,
       "padding": null,
       "right": null,
       "top": null,
       "visibility": null,
       "width": null
      }
     },
     "213ee5e5cd38458aa911463645ebf2ab": {
      "model_module": "@jupyter-widgets/controls",
      "model_module_version": "1.5.0",
      "model_name": "HTMLModel",
      "state": {
       "_dom_classes": [],
       "_model_module": "@jupyter-widgets/controls",
       "_model_module_version": "1.5.0",
       "_model_name": "HTMLModel",
       "_view_count": null,
       "_view_module": "@jupyter-widgets/controls",
       "_view_module_version": "1.5.0",
       "_view_name": "HTMLView",
       "description": "",
       "description_tooltip": null,
       "layout": "IPY_MODEL_dfcc62fdf9814cfcba63f550ef4e1a39",
       "placeholder": "​",
       "style": "IPY_MODEL_d4fe73d6084e418bad169e2ac3c12a33",
       "value": "Downloading: 100%"
      }
     },
     "232d1e7988cf4153ab04c57270ce695c": {
      "model_module": "@jupyter-widgets/controls",
      "model_module_version": "1.5.0",
      "model_name": "DescriptionStyleModel",
      "state": {
       "_model_module": "@jupyter-widgets/controls",
       "_model_module_version": "1.5.0",
       "_model_name": "DescriptionStyleModel",
       "_view_count": null,
       "_view_module": "@jupyter-widgets/base",
       "_view_module_version": "1.2.0",
       "_view_name": "StyleView",
       "description_width": ""
      }
     },
     "2829999df44b4fef9a2e94f3216733c2": {
      "model_module": "@jupyter-widgets/base",
      "model_module_version": "1.2.0",
      "model_name": "LayoutModel",
      "state": {
       "_model_module": "@jupyter-widgets/base",
       "_model_module_version": "1.2.0",
       "_model_name": "LayoutModel",
       "_view_count": null,
       "_view_module": "@jupyter-widgets/base",
       "_view_module_version": "1.2.0",
       "_view_name": "LayoutView",
       "align_content": null,
       "align_items": null,
       "align_self": null,
       "border": null,
       "bottom": null,
       "display": null,
       "flex": null,
       "flex_flow": null,
       "grid_area": null,
       "grid_auto_columns": null,
       "grid_auto_flow": null,
       "grid_auto_rows": null,
       "grid_column": null,
       "grid_gap": null,
       "grid_row": null,
       "grid_template_areas": null,
       "grid_template_columns": null,
       "grid_template_rows": null,
       "height": null,
       "justify_content": null,
       "justify_items": null,
       "left": null,
       "margin": null,
       "max_height": null,
       "max_width": null,
       "min_height": null,
       "min_width": null,
       "object_fit": null,
       "object_position": null,
       "order": null,
       "overflow": null,
       "overflow_x": null,
       "overflow_y": null,
       "padding": null,
       "right": null,
       "top": null,
       "visibility": null,
       "width": null
      }
     },
     "2b3844528db441aa845280ab9e526bec": {
      "model_module": "@jupyter-widgets/controls",
      "model_module_version": "1.5.0",
      "model_name": "DescriptionStyleModel",
      "state": {
       "_model_module": "@jupyter-widgets/controls",
       "_model_module_version": "1.5.0",
       "_model_name": "DescriptionStyleModel",
       "_view_count": null,
       "_view_module": "@jupyter-widgets/base",
       "_view_module_version": "1.2.0",
       "_view_name": "StyleView",
       "description_width": ""
      }
     },
     "334c614e8ef04775ae7b549c82113cff": {
      "model_module": "@jupyter-widgets/controls",
      "model_module_version": "1.5.0",
      "model_name": "HTMLModel",
      "state": {
       "_dom_classes": [],
       "_model_module": "@jupyter-widgets/controls",
       "_model_module_version": "1.5.0",
       "_model_name": "HTMLModel",
       "_view_count": null,
       "_view_module": "@jupyter-widgets/controls",
       "_view_module_version": "1.5.0",
       "_view_name": "HTMLView",
       "description": "",
       "description_tooltip": null,
       "layout": "IPY_MODEL_a1a9763230804d3a94df3c5dad439230",
       "placeholder": "​",
       "style": "IPY_MODEL_232d1e7988cf4153ab04c57270ce695c",
       "value": "Downloading: 100%"
      }
     },
     "3555fa157721487cbd9111870362029f": {
      "model_module": "@jupyter-widgets/base",
      "model_module_version": "1.2.0",
      "model_name": "LayoutModel",
      "state": {
       "_model_module": "@jupyter-widgets/base",
       "_model_module_version": "1.2.0",
       "_model_name": "LayoutModel",
       "_view_count": null,
       "_view_module": "@jupyter-widgets/base",
       "_view_module_version": "1.2.0",
       "_view_name": "LayoutView",
       "align_content": null,
       "align_items": null,
       "align_self": null,
       "border": null,
       "bottom": null,
       "display": null,
       "flex": null,
       "flex_flow": null,
       "grid_area": null,
       "grid_auto_columns": null,
       "grid_auto_flow": null,
       "grid_auto_rows": null,
       "grid_column": null,
       "grid_gap": null,
       "grid_row": null,
       "grid_template_areas": null,
       "grid_template_columns": null,
       "grid_template_rows": null,
       "height": null,
       "justify_content": null,
       "justify_items": null,
       "left": null,
       "margin": null,
       "max_height": null,
       "max_width": null,
       "min_height": null,
       "min_width": null,
       "object_fit": null,
       "object_position": null,
       "order": null,
       "overflow": null,
       "overflow_x": null,
       "overflow_y": null,
       "padding": null,
       "right": null,
       "top": null,
       "visibility": null,
       "width": null
      }
     },
     "376befd1ddfb4cc99a7f1d248a4317ab": {
      "model_module": "@jupyter-widgets/base",
      "model_module_version": "1.2.0",
      "model_name": "LayoutModel",
      "state": {
       "_model_module": "@jupyter-widgets/base",
       "_model_module_version": "1.2.0",
       "_model_name": "LayoutModel",
       "_view_count": null,
       "_view_module": "@jupyter-widgets/base",
       "_view_module_version": "1.2.0",
       "_view_name": "LayoutView",
       "align_content": null,
       "align_items": null,
       "align_self": null,
       "border": null,
       "bottom": null,
       "display": null,
       "flex": null,
       "flex_flow": null,
       "grid_area": null,
       "grid_auto_columns": null,
       "grid_auto_flow": null,
       "grid_auto_rows": null,
       "grid_column": null,
       "grid_gap": null,
       "grid_row": null,
       "grid_template_areas": null,
       "grid_template_columns": null,
       "grid_template_rows": null,
       "height": null,
       "justify_content": null,
       "justify_items": null,
       "left": null,
       "margin": null,
       "max_height": null,
       "max_width": null,
       "min_height": null,
       "min_width": null,
       "object_fit": null,
       "object_position": null,
       "order": null,
       "overflow": null,
       "overflow_x": null,
       "overflow_y": null,
       "padding": null,
       "right": null,
       "top": null,
       "visibility": null,
       "width": null
      }
     },
     "3cf85b1e741c402eb274eea108f1dc5b": {
      "model_module": "@jupyter-widgets/controls",
      "model_module_version": "1.5.0",
      "model_name": "FloatProgressModel",
      "state": {
       "_dom_classes": [],
       "_model_module": "@jupyter-widgets/controls",
       "_model_module_version": "1.5.0",
       "_model_name": "FloatProgressModel",
       "_view_count": null,
       "_view_module": "@jupyter-widgets/controls",
       "_view_module_version": "1.5.0",
       "_view_name": "ProgressView",
       "bar_style": "success",
       "description": "",
       "description_tooltip": null,
       "layout": "IPY_MODEL_80bf5ddddfe94ce89b60cf7e6942953a",
       "max": 898822.0,
       "min": 0.0,
       "orientation": "horizontal",
       "style": "IPY_MODEL_7c1fab9c12b64cf48491908aecbe35e2",
       "value": 898822.0
      }
     },
     "3edc37ba5b15426eaa3e95a6560f2e32": {
      "model_module": "@jupyter-widgets/base",
      "model_module_version": "1.2.0",
      "model_name": "LayoutModel",
      "state": {
       "_model_module": "@jupyter-widgets/base",
       "_model_module_version": "1.2.0",
       "_model_name": "LayoutModel",
       "_view_count": null,
       "_view_module": "@jupyter-widgets/base",
       "_view_module_version": "1.2.0",
       "_view_name": "LayoutView",
       "align_content": null,
       "align_items": null,
       "align_self": null,
       "border": null,
       "bottom": null,
       "display": null,
       "flex": null,
       "flex_flow": null,
       "grid_area": null,
       "grid_auto_columns": null,
       "grid_auto_flow": null,
       "grid_auto_rows": null,
       "grid_column": null,
       "grid_gap": null,
       "grid_row": null,
       "grid_template_areas": null,
       "grid_template_columns": null,
       "grid_template_rows": null,
       "height": null,
       "justify_content": null,
       "justify_items": null,
       "left": null,
       "margin": null,
       "max_height": null,
       "max_width": null,
       "min_height": null,
       "min_width": null,
       "object_fit": null,
       "object_position": null,
       "order": null,
       "overflow": null,
       "overflow_x": null,
       "overflow_y": null,
       "padding": null,
       "right": null,
       "top": null,
       "visibility": null,
       "width": null
      }
     },
     "45186505a8e64fadb93dc1565bbe67a1": {
      "model_module": "@jupyter-widgets/controls",
      "model_module_version": "1.5.0",
      "model_name": "HBoxModel",
      "state": {
       "_dom_classes": [],
       "_model_module": "@jupyter-widgets/controls",
       "_model_module_version": "1.5.0",
       "_model_name": "HBoxModel",
       "_view_count": null,
       "_view_module": "@jupyter-widgets/controls",
       "_view_module_version": "1.5.0",
       "_view_name": "HBoxView",
       "box_style": "",
       "children": [
        "IPY_MODEL_213ee5e5cd38458aa911463645ebf2ab",
        "IPY_MODEL_72c66441de8c4058b54b3394d129c1bc",
        "IPY_MODEL_bd3ce7f593f44ceaa8d4e61ed8f471ea"
       ],
       "layout": "IPY_MODEL_fcbf2ecfc399436fa53da73c3b0ef875"
      }
     },
     "473168a1954a4c2bb244b11f9747b299": {
      "model_module": "@jupyter-widgets/controls",
      "model_module_version": "1.5.0",
      "model_name": "DescriptionStyleModel",
      "state": {
       "_model_module": "@jupyter-widgets/controls",
       "_model_module_version": "1.5.0",
       "_model_name": "DescriptionStyleModel",
       "_view_count": null,
       "_view_module": "@jupyter-widgets/base",
       "_view_module_version": "1.2.0",
       "_view_name": "StyleView",
       "description_width": ""
      }
     },
     "4b55d5b72b394b78bb2c0a53866dc415": {
      "model_module": "@jupyter-widgets/base",
      "model_module_version": "1.2.0",
      "model_name": "LayoutModel",
      "state": {
       "_model_module": "@jupyter-widgets/base",
       "_model_module_version": "1.2.0",
       "_model_name": "LayoutModel",
       "_view_count": null,
       "_view_module": "@jupyter-widgets/base",
       "_view_module_version": "1.2.0",
       "_view_name": "LayoutView",
       "align_content": null,
       "align_items": null,
       "align_self": null,
       "border": null,
       "bottom": null,
       "display": null,
       "flex": null,
       "flex_flow": null,
       "grid_area": null,
       "grid_auto_columns": null,
       "grid_auto_flow": null,
       "grid_auto_rows": null,
       "grid_column": null,
       "grid_gap": null,
       "grid_row": null,
       "grid_template_areas": null,
       "grid_template_columns": null,
       "grid_template_rows": null,
       "height": null,
       "justify_content": null,
       "justify_items": null,
       "left": null,
       "margin": null,
       "max_height": null,
       "max_width": null,
       "min_height": null,
       "min_width": null,
       "object_fit": null,
       "object_position": null,
       "order": null,
       "overflow": null,
       "overflow_x": null,
       "overflow_y": null,
       "padding": null,
       "right": null,
       "top": null,
       "visibility": null,
       "width": null
      }
     },
     "4f2d9c37a7b34c68b24ed2f59eb1824e": {
      "model_module": "@jupyter-widgets/controls",
      "model_module_version": "1.5.0",
      "model_name": "FloatProgressModel",
      "state": {
       "_dom_classes": [],
       "_model_module": "@jupyter-widgets/controls",
       "_model_module_version": "1.5.0",
       "_model_name": "FloatProgressModel",
       "_view_count": null,
       "_view_module": "@jupyter-widgets/controls",
       "_view_module_version": "1.5.0",
       "_view_name": "ProgressView",
       "bar_style": "success",
       "description": "",
       "description_tooltip": null,
       "layout": "IPY_MODEL_00aca27dd55c4ec08e95bc21c98b3399",
       "max": 26.0,
       "min": 0.0,
       "orientation": "horizontal",
       "style": "IPY_MODEL_b36e2431149340c581901e3148cc7bd1",
       "value": 26.0
      }
     },
     "55f8ca5210a14d4bb6790480304ab43d": {
      "model_module": "@jupyter-widgets/base",
      "model_module_version": "1.2.0",
      "model_name": "LayoutModel",
      "state": {
       "_model_module": "@jupyter-widgets/base",
       "_model_module_version": "1.2.0",
       "_model_name": "LayoutModel",
       "_view_count": null,
       "_view_module": "@jupyter-widgets/base",
       "_view_module_version": "1.2.0",
       "_view_name": "LayoutView",
       "align_content": null,
       "align_items": null,
       "align_self": null,
       "border": null,
       "bottom": null,
       "display": null,
       "flex": null,
       "flex_flow": null,
       "grid_area": null,
       "grid_auto_columns": null,
       "grid_auto_flow": null,
       "grid_auto_rows": null,
       "grid_column": null,
       "grid_gap": null,
       "grid_row": null,
       "grid_template_areas": null,
       "grid_template_columns": null,
       "grid_template_rows": null,
       "height": null,
       "justify_content": null,
       "justify_items": null,
       "left": null,
       "margin": null,
       "max_height": null,
       "max_width": null,
       "min_height": null,
       "min_width": null,
       "object_fit": null,
       "object_position": null,
       "order": null,
       "overflow": null,
       "overflow_x": null,
       "overflow_y": null,
       "padding": null,
       "right": null,
       "top": null,
       "visibility": null,
       "width": null
      }
     },
     "632057501b7849bab4902fdc5dcc8a73": {
      "model_module": "@jupyter-widgets/controls",
      "model_module_version": "1.5.0",
      "model_name": "HTMLModel",
      "state": {
       "_dom_classes": [],
       "_model_module": "@jupyter-widgets/controls",
       "_model_module_version": "1.5.0",
       "_model_name": "HTMLModel",
       "_view_count": null,
       "_view_module": "@jupyter-widgets/controls",
       "_view_module_version": "1.5.0",
       "_view_name": "HTMLView",
       "description": "",
       "description_tooltip": null,
       "layout": "IPY_MODEL_0ba20f0ebf4341cbae8707859fe1fd4a",
       "placeholder": "​",
       "style": "IPY_MODEL_2b3844528db441aa845280ab9e526bec",
       "value": " 899k/899k [00:00&lt;00:00, 4.22MB/s]"
      }
     },
     "673cc23f198c40a78cea491eb727e867": {
      "model_module": "@jupyter-widgets/base",
      "model_module_version": "1.2.0",
      "model_name": "LayoutModel",
      "state": {
       "_model_module": "@jupyter-widgets/base",
       "_model_module_version": "1.2.0",
       "_model_name": "LayoutModel",
       "_view_count": null,
       "_view_module": "@jupyter-widgets/base",
       "_view_module_version": "1.2.0",
       "_view_name": "LayoutView",
       "align_content": null,
       "align_items": null,
       "align_self": null,
       "border": null,
       "bottom": null,
       "display": null,
       "flex": null,
       "flex_flow": null,
       "grid_area": null,
       "grid_auto_columns": null,
       "grid_auto_flow": null,
       "grid_auto_rows": null,
       "grid_column": null,
       "grid_gap": null,
       "grid_row": null,
       "grid_template_areas": null,
       "grid_template_columns": null,
       "grid_template_rows": null,
       "height": null,
       "justify_content": null,
       "justify_items": null,
       "left": null,
       "margin": null,
       "max_height": null,
       "max_width": null,
       "min_height": null,
       "min_width": null,
       "object_fit": null,
       "object_position": null,
       "order": null,
       "overflow": null,
       "overflow_x": null,
       "overflow_y": null,
       "padding": null,
       "right": null,
       "top": null,
       "visibility": null,
       "width": null
      }
     },
     "72c66441de8c4058b54b3394d129c1bc": {
      "model_module": "@jupyter-widgets/controls",
      "model_module_version": "1.5.0",
      "model_name": "FloatProgressModel",
      "state": {
       "_dom_classes": [],
       "_model_module": "@jupyter-widgets/controls",
       "_model_module_version": "1.5.0",
       "_model_name": "FloatProgressModel",
       "_view_count": null,
       "_view_module": "@jupyter-widgets/controls",
       "_view_module_version": "1.5.0",
       "_view_name": "ProgressView",
       "bar_style": "success",
       "description": "",
       "description_tooltip": null,
       "layout": "IPY_MODEL_0866e0cfca304c04aa50ff629f9f5d43",
       "max": 456318.0,
       "min": 0.0,
       "orientation": "horizontal",
       "style": "IPY_MODEL_0b5fa816f0b84e4dac08b34c530862d0",
       "value": 456318.0
      }
     },
     "7962deddcdc644549125a43af69b58ae": {
      "model_module": "@jupyter-widgets/controls",
      "model_module_version": "1.5.0",
      "model_name": "DescriptionStyleModel",
      "state": {
       "_model_module": "@jupyter-widgets/controls",
       "_model_module_version": "1.5.0",
       "_model_name": "DescriptionStyleModel",
       "_view_count": null,
       "_view_module": "@jupyter-widgets/base",
       "_view_module_version": "1.2.0",
       "_view_name": "StyleView",
       "description_width": ""
      }
     },
     "7b1dc015b7dd48e4bde114bc7f7dd2b1": {
      "model_module": "@jupyter-widgets/controls",
      "model_module_version": "1.5.0",
      "model_name": "ProgressStyleModel",
      "state": {
       "_model_module": "@jupyter-widgets/controls",
       "_model_module_version": "1.5.0",
       "_model_name": "ProgressStyleModel",
       "_view_count": null,
       "_view_module": "@jupyter-widgets/base",
       "_view_module_version": "1.2.0",
       "_view_name": "StyleView",
       "bar_color": null,
       "description_width": ""
      }
     },
     "7c1fab9c12b64cf48491908aecbe35e2": {
      "model_module": "@jupyter-widgets/controls",
      "model_module_version": "1.5.0",
      "model_name": "ProgressStyleModel",
      "state": {
       "_model_module": "@jupyter-widgets/controls",
       "_model_module_version": "1.5.0",
       "_model_name": "ProgressStyleModel",
       "_view_count": null,
       "_view_module": "@jupyter-widgets/base",
       "_view_module_version": "1.2.0",
       "_view_name": "StyleView",
       "bar_color": null,
       "description_width": ""
      }
     },
     "80bf5ddddfe94ce89b60cf7e6942953a": {
      "model_module": "@jupyter-widgets/base",
      "model_module_version": "1.2.0",
      "model_name": "LayoutModel",
      "state": {
       "_model_module": "@jupyter-widgets/base",
       "_model_module_version": "1.2.0",
       "_model_name": "LayoutModel",
       "_view_count": null,
       "_view_module": "@jupyter-widgets/base",
       "_view_module_version": "1.2.0",
       "_view_name": "LayoutView",
       "align_content": null,
       "align_items": null,
       "align_self": null,
       "border": null,
       "bottom": null,
       "display": null,
       "flex": null,
       "flex_flow": null,
       "grid_area": null,
       "grid_auto_columns": null,
       "grid_auto_flow": null,
       "grid_auto_rows": null,
       "grid_column": null,
       "grid_gap": null,
       "grid_row": null,
       "grid_template_areas": null,
       "grid_template_columns": null,
       "grid_template_rows": null,
       "height": null,
       "justify_content": null,
       "justify_items": null,
       "left": null,
       "margin": null,
       "max_height": null,
       "max_width": null,
       "min_height": null,
       "min_width": null,
       "object_fit": null,
       "object_position": null,
       "order": null,
       "overflow": null,
       "overflow_x": null,
       "overflow_y": null,
       "padding": null,
       "right": null,
       "top": null,
       "visibility": null,
       "width": null
      }
     },
     "80c3b747188e4d1e9c005f2bf69fdf02": {
      "model_module": "@jupyter-widgets/controls",
      "model_module_version": "1.5.0",
      "model_name": "HBoxModel",
      "state": {
       "_dom_classes": [],
       "_model_module": "@jupyter-widgets/controls",
       "_model_module_version": "1.5.0",
       "_model_name": "HBoxModel",
       "_view_count": null,
       "_view_module": "@jupyter-widgets/controls",
       "_view_module_version": "1.5.0",
       "_view_name": "HBoxView",
       "box_style": "",
       "children": [
        "IPY_MODEL_9ada08acb6f34a6595cf2d1141c0ca73",
        "IPY_MODEL_0b188633a6bd460394a161ef87f981f4",
        "IPY_MODEL_f783b709294646fd87a733e6de01b687"
       ],
       "layout": "IPY_MODEL_f738c971c7154bd4b97a0c55c9271657"
      }
     },
     "82838ebdf1754be8bf33128c733dd589": {
      "model_module": "@jupyter-widgets/controls",
      "model_module_version": "1.5.0",
      "model_name": "HTMLModel",
      "state": {
       "_dom_classes": [],
       "_model_module": "@jupyter-widgets/controls",
       "_model_module_version": "1.5.0",
       "_model_name": "HTMLModel",
       "_view_count": null,
       "_view_module": "@jupyter-widgets/controls",
       "_view_module_version": "1.5.0",
       "_view_name": "HTMLView",
       "description": "",
       "description_tooltip": null,
       "layout": "IPY_MODEL_3edc37ba5b15426eaa3e95a6560f2e32",
       "placeholder": "​",
       "style": "IPY_MODEL_473168a1954a4c2bb244b11f9747b299",
       "value": "Downloading: 100%"
      }
     },
     "85aa715e0f8d4daaa5dbbff60d63b3bb": {
      "model_module": "@jupyter-widgets/controls",
      "model_module_version": "1.5.0",
      "model_name": "DescriptionStyleModel",
      "state": {
       "_model_module": "@jupyter-widgets/controls",
       "_model_module_version": "1.5.0",
       "_model_name": "DescriptionStyleModel",
       "_view_count": null,
       "_view_module": "@jupyter-widgets/base",
       "_view_module_version": "1.2.0",
       "_view_name": "StyleView",
       "description_width": ""
      }
     },
     "874786cb55cf4f7e89a7ae5cad2d319d": {
      "model_module": "@jupyter-widgets/base",
      "model_module_version": "1.2.0",
      "model_name": "LayoutModel",
      "state": {
       "_model_module": "@jupyter-widgets/base",
       "_model_module_version": "1.2.0",
       "_model_name": "LayoutModel",
       "_view_count": null,
       "_view_module": "@jupyter-widgets/base",
       "_view_module_version": "1.2.0",
       "_view_name": "LayoutView",
       "align_content": null,
       "align_items": null,
       "align_self": null,
       "border": null,
       "bottom": null,
       "display": null,
       "flex": null,
       "flex_flow": null,
       "grid_area": null,
       "grid_auto_columns": null,
       "grid_auto_flow": null,
       "grid_auto_rows": null,
       "grid_column": null,
       "grid_gap": null,
       "grid_row": null,
       "grid_template_areas": null,
       "grid_template_columns": null,
       "grid_template_rows": null,
       "height": null,
       "justify_content": null,
       "justify_items": null,
       "left": null,
       "margin": null,
       "max_height": null,
       "max_width": null,
       "min_height": null,
       "min_width": null,
       "object_fit": null,
       "object_position": null,
       "order": null,
       "overflow": null,
       "overflow_x": null,
       "overflow_y": null,
       "padding": null,
       "right": null,
       "top": null,
       "visibility": null,
       "width": null
      }
     },
     "9ada08acb6f34a6595cf2d1141c0ca73": {
      "model_module": "@jupyter-widgets/controls",
      "model_module_version": "1.5.0",
      "model_name": "HTMLModel",
      "state": {
       "_dom_classes": [],
       "_model_module": "@jupyter-widgets/controls",
       "_model_module_version": "1.5.0",
       "_model_name": "HTMLModel",
       "_view_count": null,
       "_view_module": "@jupyter-widgets/controls",
       "_view_module_version": "1.5.0",
       "_view_name": "HTMLView",
       "description": "",
       "description_tooltip": null,
       "layout": "IPY_MODEL_376befd1ddfb4cc99a7f1d248a4317ab",
       "placeholder": "​",
       "style": "IPY_MODEL_b8850217bf324432b2c9bb685d8a4cd3",
       "value": "Downloading: 100%"
      }
     },
     "a0f74fd906394563ba6c2218f379f15a": {
      "model_module": "@jupyter-widgets/controls",
      "model_module_version": "1.5.0",
      "model_name": "HBoxModel",
      "state": {
       "_dom_classes": [],
       "_model_module": "@jupyter-widgets/controls",
       "_model_module_version": "1.5.0",
       "_model_name": "HBoxModel",
       "_view_count": null,
       "_view_module": "@jupyter-widgets/controls",
       "_view_module_version": "1.5.0",
       "_view_name": "HBoxView",
       "box_style": "",
       "children": [
        "IPY_MODEL_0a64aa10b18f42a1a7d5cb1cc0f9b290",
        "IPY_MODEL_3cf85b1e741c402eb274eea108f1dc5b",
        "IPY_MODEL_632057501b7849bab4902fdc5dcc8a73"
       ],
       "layout": "IPY_MODEL_874786cb55cf4f7e89a7ae5cad2d319d"
      }
     },
     "a1a9763230804d3a94df3c5dad439230": {
      "model_module": "@jupyter-widgets/base",
      "model_module_version": "1.2.0",
      "model_name": "LayoutModel",
      "state": {
       "_model_module": "@jupyter-widgets/base",
       "_model_module_version": "1.2.0",
       "_model_name": "LayoutModel",
       "_view_count": null,
       "_view_module": "@jupyter-widgets/base",
       "_view_module_version": "1.2.0",
       "_view_name": "LayoutView",
       "align_content": null,
       "align_items": null,
       "align_self": null,
       "border": null,
       "bottom": null,
       "display": null,
       "flex": null,
       "flex_flow": null,
       "grid_area": null,
       "grid_auto_columns": null,
       "grid_auto_flow": null,
       "grid_auto_rows": null,
       "grid_column": null,
       "grid_gap": null,
       "grid_row": null,
       "grid_template_areas": null,
       "grid_template_columns": null,
       "grid_template_rows": null,
       "height": null,
       "justify_content": null,
       "justify_items": null,
       "left": null,
       "margin": null,
       "max_height": null,
       "max_width": null,
       "min_height": null,
       "min_width": null,
       "object_fit": null,
       "object_position": null,
       "order": null,
       "overflow": null,
       "overflow_x": null,
       "overflow_y": null,
       "padding": null,
       "right": null,
       "top": null,
       "visibility": null,
       "width": null
      }
     },
     "a6be8ee2b045436eb83d8553dd68616e": {
      "model_module": "@jupyter-widgets/controls",
      "model_module_version": "1.5.0",
      "model_name": "HTMLModel",
      "state": {
       "_dom_classes": [],
       "_model_module": "@jupyter-widgets/controls",
       "_model_module_version": "1.5.0",
       "_model_name": "HTMLModel",
       "_view_count": null,
       "_view_module": "@jupyter-widgets/controls",
       "_view_module_version": "1.5.0",
       "_view_name": "HTMLView",
       "description": "",
       "description_tooltip": null,
       "layout": "IPY_MODEL_0291385c35ef4da5901b3da235891456",
       "placeholder": "​",
       "style": "IPY_MODEL_060204b290e440598c0f967fd061c825",
       "value": " 1.22G/1.22G [00:39&lt;00:00, 31.7MB/s]"
      }
     },
     "b36e2431149340c581901e3148cc7bd1": {
      "model_module": "@jupyter-widgets/controls",
      "model_module_version": "1.5.0",
      "model_name": "ProgressStyleModel",
      "state": {
       "_model_module": "@jupyter-widgets/controls",
       "_model_module_version": "1.5.0",
       "_model_name": "ProgressStyleModel",
       "_view_count": null,
       "_view_module": "@jupyter-widgets/base",
       "_view_module_version": "1.2.0",
       "_view_name": "StyleView",
       "bar_color": null,
       "description_width": ""
      }
     },
     "b8850217bf324432b2c9bb685d8a4cd3": {
      "model_module": "@jupyter-widgets/controls",
      "model_module_version": "1.5.0",
      "model_name": "DescriptionStyleModel",
      "state": {
       "_model_module": "@jupyter-widgets/controls",
       "_model_module_version": "1.5.0",
       "_model_name": "DescriptionStyleModel",
       "_view_count": null,
       "_view_module": "@jupyter-widgets/base",
       "_view_module_version": "1.2.0",
       "_view_name": "StyleView",
       "description_width": ""
      }
     },
     "baf98cd010c946ffab966ab2f03d98ce": {
      "model_module": "@jupyter-widgets/base",
      "model_module_version": "1.2.0",
      "model_name": "LayoutModel",
      "state": {
       "_model_module": "@jupyter-widgets/base",
       "_model_module_version": "1.2.0",
       "_model_name": "LayoutModel",
       "_view_count": null,
       "_view_module": "@jupyter-widgets/base",
       "_view_module_version": "1.2.0",
       "_view_name": "LayoutView",
       "align_content": null,
       "align_items": null,
       "align_self": null,
       "border": null,
       "bottom": null,
       "display": null,
       "flex": null,
       "flex_flow": null,
       "grid_area": null,
       "grid_auto_columns": null,
       "grid_auto_flow": null,
       "grid_auto_rows": null,
       "grid_column": null,
       "grid_gap": null,
       "grid_row": null,
       "grid_template_areas": null,
       "grid_template_columns": null,
       "grid_template_rows": null,
       "height": null,
       "justify_content": null,
       "justify_items": null,
       "left": null,
       "margin": null,
       "max_height": null,
       "max_width": null,
       "min_height": null,
       "min_width": null,
       "object_fit": null,
       "object_position": null,
       "order": null,
       "overflow": null,
       "overflow_x": null,
       "overflow_y": null,
       "padding": null,
       "right": null,
       "top": null,
       "visibility": null,
       "width": null
      }
     },
     "bc21ddb0df264f95add289a682e922c7": {
      "model_module": "@jupyter-widgets/controls",
      "model_module_version": "1.5.0",
      "model_name": "HTMLModel",
      "state": {
       "_dom_classes": [],
       "_model_module": "@jupyter-widgets/controls",
       "_model_module_version": "1.5.0",
       "_model_name": "HTMLModel",
       "_view_count": null,
       "_view_module": "@jupyter-widgets/controls",
       "_view_module_version": "1.5.0",
       "_view_name": "HTMLView",
       "description": "",
       "description_tooltip": null,
       "layout": "IPY_MODEL_3555fa157721487cbd9111870362029f",
       "placeholder": "​",
       "style": "IPY_MODEL_85aa715e0f8d4daaa5dbbff60d63b3bb",
       "value": " 26.0/26.0 [00:00&lt;00:00, 1.02kB/s]"
      }
     },
     "bd3ce7f593f44ceaa8d4e61ed8f471ea": {
      "model_module": "@jupyter-widgets/controls",
      "model_module_version": "1.5.0",
      "model_name": "HTMLModel",
      "state": {
       "_dom_classes": [],
       "_model_module": "@jupyter-widgets/controls",
       "_model_module_version": "1.5.0",
       "_model_name": "HTMLModel",
       "_view_count": null,
       "_view_module": "@jupyter-widgets/controls",
       "_view_module_version": "1.5.0",
       "_view_name": "HTMLView",
       "description": "",
       "description_tooltip": null,
       "layout": "IPY_MODEL_4b55d5b72b394b78bb2c0a53866dc415",
       "placeholder": "​",
       "style": "IPY_MODEL_c2e55160fff6444b95c56af9f2f153a2",
       "value": " 456k/456k [00:00&lt;00:00, 3.88MB/s]"
      }
     },
     "c1bfe408034f4e73bdecac6b178c4dbe": {
      "model_module": "@jupyter-widgets/controls",
      "model_module_version": "1.5.0",
      "model_name": "FloatProgressModel",
      "state": {
       "_dom_classes": [],
       "_model_module": "@jupyter-widgets/controls",
       "_model_module_version": "1.5.0",
       "_model_name": "FloatProgressModel",
       "_view_count": null,
       "_view_module": "@jupyter-widgets/controls",
       "_view_module_version": "1.5.0",
       "_view_name": "ProgressView",
       "bar_style": "success",
       "description": "",
       "description_tooltip": null,
       "layout": "IPY_MODEL_c2492c3ae99443f6b48b5c5d4f5c3a61",
       "max": 1222317369.0,
       "min": 0.0,
       "orientation": "horizontal",
       "style": "IPY_MODEL_7b1dc015b7dd48e4bde114bc7f7dd2b1",
       "value": 1222317369.0
      }
     },
     "c2492c3ae99443f6b48b5c5d4f5c3a61": {
      "model_module": "@jupyter-widgets/base",
      "model_module_version": "1.2.0",
      "model_name": "LayoutModel",
      "state": {
       "_model_module": "@jupyter-widgets/base",
       "_model_module_version": "1.2.0",
       "_model_name": "LayoutModel",
       "_view_count": null,
       "_view_module": "@jupyter-widgets/base",
       "_view_module_version": "1.2.0",
       "_view_name": "LayoutView",
       "align_content": null,
       "align_items": null,
       "align_self": null,
       "border": null,
       "bottom": null,
       "display": null,
       "flex": null,
       "flex_flow": null,
       "grid_area": null,
       "grid_auto_columns": null,
       "grid_auto_flow": null,
       "grid_auto_rows": null,
       "grid_column": null,
       "grid_gap": null,
       "grid_row": null,
       "grid_template_areas": null,
       "grid_template_columns": null,
       "grid_template_rows": null,
       "height": null,
       "justify_content": null,
       "justify_items": null,
       "left": null,
       "margin": null,
       "max_height": null,
       "max_width": null,
       "min_height": null,
       "min_width": null,
       "object_fit": null,
       "object_position": null,
       "order": null,
       "overflow": null,
       "overflow_x": null,
       "overflow_y": null,
       "padding": null,
       "right": null,
       "top": null,
       "visibility": null,
       "width": null
      }
     },
     "c2e55160fff6444b95c56af9f2f153a2": {
      "model_module": "@jupyter-widgets/controls",
      "model_module_version": "1.5.0",
      "model_name": "DescriptionStyleModel",
      "state": {
       "_model_module": "@jupyter-widgets/controls",
       "_model_module_version": "1.5.0",
       "_model_name": "DescriptionStyleModel",
       "_view_count": null,
       "_view_module": "@jupyter-widgets/base",
       "_view_module_version": "1.2.0",
       "_view_name": "StyleView",
       "description_width": ""
      }
     },
     "c7b9ecce48794a2da5c69c1142015cd1": {
      "model_module": "@jupyter-widgets/controls",
      "model_module_version": "1.5.0",
      "model_name": "ProgressStyleModel",
      "state": {
       "_model_module": "@jupyter-widgets/controls",
       "_model_module_version": "1.5.0",
       "_model_name": "ProgressStyleModel",
       "_view_count": null,
       "_view_module": "@jupyter-widgets/base",
       "_view_module_version": "1.2.0",
       "_view_name": "StyleView",
       "bar_color": null,
       "description_width": ""
      }
     },
     "ccb7fc8d316546cfb6701489e7740681": {
      "model_module": "@jupyter-widgets/base",
      "model_module_version": "1.2.0",
      "model_name": "LayoutModel",
      "state": {
       "_model_module": "@jupyter-widgets/base",
       "_model_module_version": "1.2.0",
       "_model_name": "LayoutModel",
       "_view_count": null,
       "_view_module": "@jupyter-widgets/base",
       "_view_module_version": "1.2.0",
       "_view_name": "LayoutView",
       "align_content": null,
       "align_items": null,
       "align_self": null,
       "border": null,
       "bottom": null,
       "display": null,
       "flex": null,
       "flex_flow": null,
       "grid_area": null,
       "grid_auto_columns": null,
       "grid_auto_flow": null,
       "grid_auto_rows": null,
       "grid_column": null,
       "grid_gap": null,
       "grid_row": null,
       "grid_template_areas": null,
       "grid_template_columns": null,
       "grid_template_rows": null,
       "height": null,
       "justify_content": null,
       "justify_items": null,
       "left": null,
       "margin": null,
       "max_height": null,
       "max_width": null,
       "min_height": null,
       "min_width": null,
       "object_fit": null,
       "object_position": null,
       "order": null,
       "overflow": null,
       "overflow_x": null,
       "overflow_y": null,
       "padding": null,
       "right": null,
       "top": null,
       "visibility": null,
       "width": null
      }
     },
     "d2f2f993e056461e989b43645a41f219": {
      "model_module": "@jupyter-widgets/controls",
      "model_module_version": "1.5.0",
      "model_name": "HBoxModel",
      "state": {
       "_dom_classes": [],
       "_model_module": "@jupyter-widgets/controls",
       "_model_module_version": "1.5.0",
       "_model_name": "HBoxModel",
       "_view_count": null,
       "_view_module": "@jupyter-widgets/controls",
       "_view_module_version": "1.5.0",
       "_view_name": "HBoxView",
       "box_style": "",
       "children": [
        "IPY_MODEL_82838ebdf1754be8bf33128c733dd589",
        "IPY_MODEL_4f2d9c37a7b34c68b24ed2f59eb1824e",
        "IPY_MODEL_bc21ddb0df264f95add289a682e922c7"
       ],
       "layout": "IPY_MODEL_ccb7fc8d316546cfb6701489e7740681"
      }
     },
     "d4fe73d6084e418bad169e2ac3c12a33": {
      "model_module": "@jupyter-widgets/controls",
      "model_module_version": "1.5.0",
      "model_name": "DescriptionStyleModel",
      "state": {
       "_model_module": "@jupyter-widgets/controls",
       "_model_module_version": "1.5.0",
       "_model_name": "DescriptionStyleModel",
       "_view_count": null,
       "_view_module": "@jupyter-widgets/base",
       "_view_module_version": "1.2.0",
       "_view_name": "StyleView",
       "description_width": ""
      }
     },
     "dd321df5506d4e7d8e36ef89bc1b69ac": {
      "model_module": "@jupyter-widgets/controls",
      "model_module_version": "1.5.0",
      "model_name": "HBoxModel",
      "state": {
       "_dom_classes": [],
       "_model_module": "@jupyter-widgets/controls",
       "_model_module_version": "1.5.0",
       "_model_name": "HBoxModel",
       "_view_count": null,
       "_view_module": "@jupyter-widgets/controls",
       "_view_module_version": "1.5.0",
       "_view_name": "HBoxView",
       "box_style": "",
       "children": [
        "IPY_MODEL_334c614e8ef04775ae7b549c82113cff",
        "IPY_MODEL_c1bfe408034f4e73bdecac6b178c4dbe",
        "IPY_MODEL_a6be8ee2b045436eb83d8553dd68616e"
       ],
       "layout": "IPY_MODEL_673cc23f198c40a78cea491eb727e867"
      }
     },
     "dfcc62fdf9814cfcba63f550ef4e1a39": {
      "model_module": "@jupyter-widgets/base",
      "model_module_version": "1.2.0",
      "model_name": "LayoutModel",
      "state": {
       "_model_module": "@jupyter-widgets/base",
       "_model_module_version": "1.2.0",
       "_model_name": "LayoutModel",
       "_view_count": null,
       "_view_module": "@jupyter-widgets/base",
       "_view_module_version": "1.2.0",
       "_view_name": "LayoutView",
       "align_content": null,
       "align_items": null,
       "align_self": null,
       "border": null,
       "bottom": null,
       "display": null,
       "flex": null,
       "flex_flow": null,
       "grid_area": null,
       "grid_auto_columns": null,
       "grid_auto_flow": null,
       "grid_auto_rows": null,
       "grid_column": null,
       "grid_gap": null,
       "grid_row": null,
       "grid_template_areas": null,
       "grid_template_columns": null,
       "grid_template_rows": null,
       "height": null,
       "justify_content": null,
       "justify_items": null,
       "left": null,
       "margin": null,
       "max_height": null,
       "max_width": null,
       "min_height": null,
       "min_width": null,
       "object_fit": null,
       "object_position": null,
       "order": null,
       "overflow": null,
       "overflow_x": null,
       "overflow_y": null,
       "padding": null,
       "right": null,
       "top": null,
       "visibility": null,
       "width": null
      }
     },
     "eb9f6630b4054a79be570e22b8b7ab64": {
      "model_module": "@jupyter-widgets/controls",
      "model_module_version": "1.5.0",
      "model_name": "DescriptionStyleModel",
      "state": {
       "_model_module": "@jupyter-widgets/controls",
       "_model_module_version": "1.5.0",
       "_model_name": "DescriptionStyleModel",
       "_view_count": null,
       "_view_module": "@jupyter-widgets/base",
       "_view_module_version": "1.2.0",
       "_view_name": "StyleView",
       "description_width": ""
      }
     },
     "f738c971c7154bd4b97a0c55c9271657": {
      "model_module": "@jupyter-widgets/base",
      "model_module_version": "1.2.0",
      "model_name": "LayoutModel",
      "state": {
       "_model_module": "@jupyter-widgets/base",
       "_model_module_version": "1.2.0",
       "_model_name": "LayoutModel",
       "_view_count": null,
       "_view_module": "@jupyter-widgets/base",
       "_view_module_version": "1.2.0",
       "_view_name": "LayoutView",
       "align_content": null,
       "align_items": null,
       "align_self": null,
       "border": null,
       "bottom": null,
       "display": null,
       "flex": null,
       "flex_flow": null,
       "grid_area": null,
       "grid_auto_columns": null,
       "grid_auto_flow": null,
       "grid_auto_rows": null,
       "grid_column": null,
       "grid_gap": null,
       "grid_row": null,
       "grid_template_areas": null,
       "grid_template_columns": null,
       "grid_template_rows": null,
       "height": null,
       "justify_content": null,
       "justify_items": null,
       "left": null,
       "margin": null,
       "max_height": null,
       "max_width": null,
       "min_height": null,
       "min_width": null,
       "object_fit": null,
       "object_position": null,
       "order": null,
       "overflow": null,
       "overflow_x": null,
       "overflow_y": null,
       "padding": null,
       "right": null,
       "top": null,
       "visibility": null,
       "width": null
      }
     },
     "f783b709294646fd87a733e6de01b687": {
      "model_module": "@jupyter-widgets/controls",
      "model_module_version": "1.5.0",
      "model_name": "HTMLModel",
      "state": {
       "_dom_classes": [],
       "_model_module": "@jupyter-widgets/controls",
       "_model_module_version": "1.5.0",
       "_model_name": "HTMLModel",
       "_view_count": null,
       "_view_module": "@jupyter-widgets/controls",
       "_view_module_version": "1.5.0",
       "_view_name": "HTMLView",
       "description": "",
       "description_tooltip": null,
       "layout": "IPY_MODEL_55f8ca5210a14d4bb6790480304ab43d",
       "placeholder": "​",
       "style": "IPY_MODEL_7962deddcdc644549125a43af69b58ae",
       "value": " 1.80k/1.80k [00:00&lt;00:00, 64.0kB/s]"
      }
     },
     "fcbf2ecfc399436fa53da73c3b0ef875": {
      "model_module": "@jupyter-widgets/base",
      "model_module_version": "1.2.0",
      "model_name": "LayoutModel",
      "state": {
       "_model_module": "@jupyter-widgets/base",
       "_model_module_version": "1.2.0",
       "_model_name": "LayoutModel",
       "_view_count": null,
       "_view_module": "@jupyter-widgets/base",
       "_view_module_version": "1.2.0",
       "_view_name": "LayoutView",
       "align_content": null,
       "align_items": null,
       "align_self": null,
       "border": null,
       "bottom": null,
       "display": null,
       "flex": null,
       "flex_flow": null,
       "grid_area": null,
       "grid_auto_columns": null,
       "grid_auto_flow": null,
       "grid_auto_rows": null,
       "grid_column": null,
       "grid_gap": null,
       "grid_row": null,
       "grid_template_areas": null,
       "grid_template_columns": null,
       "grid_template_rows": null,
       "height": null,
       "justify_content": null,
       "justify_items": null,
       "left": null,
       "margin": null,
       "max_height": null,
       "max_width": null,
       "min_height": null,
       "min_width": null,
       "object_fit": null,
       "object_position": null,
       "order": null,
       "overflow": null,
       "overflow_x": null,
       "overflow_y": null,
       "padding": null,
       "right": null,
       "top": null,
       "visibility": null,
       "width": null
      }
     }
    },
    "version_major": 2,
    "version_minor": 0
   }
  }
 },
 "nbformat": 4,
 "nbformat_minor": 5
}
